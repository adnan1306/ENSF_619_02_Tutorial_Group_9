{
 "cells": [
  {
   "cell_type": "code",
   "execution_count": 2,
   "id": "1be46d45",
   "metadata": {},
   "outputs": [],
   "source": [
    "import os\n",
    "import os\n",
    "os.environ['CUDA_VISIBLE_DEVICES'] = '0,1,2,3'\n",
    "import tensorflow_probability as tfp\n",
    "from jax import jit\n",
    "import datetime\n",
    "\n",
    "tfp = tfp.experimental.substrates.jax\n",
    "tfd = tfp.distributions\n",
    "import numpy as onp\n",
    "import tensorflow_datasets as tfds\n",
    "import jax\n",
    "from jax import vmap\n",
    "import neural_tangents as nt\n",
    "from neural_tangents.predict import gradient_descent_mse_ensemble\n",
    "from functools import partial\n",
    "import time\n",
    "import pandas as pd\n",
    "import jax.numpy as np\n",
    "import collections\n",
    "import matplotlib.pyplot as plt\n",
    "import seaborn as sns\n",
    "sns.set()"
   ]
  },
  {
   "cell_type": "code",
   "execution_count": 3,
   "id": "cd003f88",
   "metadata": {},
   "outputs": [],
   "source": [
    "from skimage.util import random_noise\n"
   ]
  },
  {
   "cell_type": "code",
   "execution_count": 4,
   "id": "4777e0bc",
   "metadata": {},
   "outputs": [],
   "source": [
    "from tqdm import tqdm"
   ]
  },
  {
   "cell_type": "code",
   "execution_count": 5,
   "id": "25a076ee",
   "metadata": {},
   "outputs": [
    {
     "name": "stdout",
     "output_type": "stream",
     "text": [
      "$\r\n"
     ]
    }
   ],
   "source": [
    "!echo $XLA_FLAGS$"
   ]
  },
  {
   "cell_type": "code",
   "execution_count": 6,
   "id": "b92fe773",
   "metadata": {},
   "outputs": [],
   "source": [
    "@jit\n",
    "def get_info_nec(gauss, tlbs, init_pred=None, beta=0, num_of_samples=2, th=1e-10):\n",
    "    \"\"\"I(X:Z) estimator\"\"\"\n",
    "    rng = jax.random.PRNGKey(0)\n",
    "    mu, sig = gauss\n",
    "    pzx = tfd.Independent(distribution=tfd.MultivariateNormalDiag(mu, np.tile(sig + th, (mu.shape[1], 1)).T))\n",
    "    samples = pzx.sample(seed=rng, sample_shape=1)\n",
    "    log_prob_pxt = pzx[:, None].log_prob(samples[0, :, :])\n",
    "    im_lower = inner_info_nec_lower(log_prob_pxt)\n",
    "    im_upper = inner_info_nec_upper(log_prob_pxt)\n",
    "    return IXT_MET(ixt_lower=im_lower, ixt_upper=im_upper)\n",
    "\n",
    "\n",
    "@jit\n",
    "def remove_dig(A):\n",
    "    return A[~onp.eye(A.shape[0], dtype=bool)].reshape(A.shape[0], -1)\n",
    "\n",
    "\n",
    "@jit\n",
    "def inner_info_nec_lower(scores):\n",
    "    \"\"\"InfoNCE estimator for I(diX;T)  - van den Oord et al. (2018):\"\"\"\n",
    "    nll = np.mean(np.diag(scores) - jax.scipy.special.logsumexp(scores, axis=1))\n",
    "    K = scores.shape[1]\n",
    "    mi = np.log(K) + nll\n",
    "    return mi\n",
    "\n",
    "\n",
    "@jit\n",
    "def inner_info_nec_upper(scores):\n",
    "    \"\"\"InfoNCE estimator for I(diX;T)  - van den Oord et al. (2018):\"\"\"\n",
    "    scores_no_diagonal = remove_dig(scores)\n",
    "    nll = np.mean(np.diag(scores) - jax.scipy.special.logsumexp(scores_no_diagonal, axis=1))\n",
    "    K = scores.shape[1]\n",
    "    mi = np.log(K - 1) + nll\n",
    "    return mi\n",
    "\n",
    "\n",
    "@jit\n",
    "def get_kl_posterior_prior(gauss, tlbs, init_gauss=None, beta=0, th=1e-10):\n",
    "    \"\"\"The dkl between the posterior and the prior distribution of the output -upper bound on I(Z;D|X)\"\"\"\n",
    "    mu, sig = gauss\n",
    "    init_mu, init_sig = init_gauss\n",
    "    pzx = tfd.Independent(distribution=tfd.MultivariateNormalDiag(mu, np.tile(sig + th, (mu.shape[1], 1)).T))\n",
    "    pzx_init = tfd.Independent(\n",
    "        distribution=tfd.MultivariateNormalDiag(init_mu, np.tile(init_sig + th, (mu.shape[1], 1)).T))\n",
    "    kl = tfp.distributions.kl_divergence(pzx, pzx_init)\n",
    "    return DKL_MET(dkl_output=np.mean(kl))\n",
    "\n",
    "\n",
    "\n",
    "@jit\n",
    "def get_bayes_loss(gauss, tlbs, th=1e-15):\n",
    "    mu, sig = gauss\n",
    "    pyz = tfd.Independent(distribution=tfd.MultivariateNormalDiag(mu, np.tile(sig + th, (mu.shape[1], 1)).T))\n",
    "    return pyz.log_prob(tlbs).mean()\n",
    "\n",
    "\n",
    "@jit\n",
    "def loss_fn(loss_train, tlbs, m):\n",
    "    mean, var = loss_train\n",
    "    mean = np.reshape(mean, mean.shape[:1] + (-1,))\n",
    "    mean_predictions = - 0.5 * np.mean(tlbs ** 2 - 2 * mean * tlbs + mean ** 2,\n",
    "                                       axis=1)\n",
    "    third_term = 0.5 * np.log(2 * np.pi)\n",
    "    fourth_term = 0.5 * (np.log(1 + var))\n",
    "    fifth_term = -0.5 * var\n",
    "    return np.mean(third_term + fourth_term + mean_predictions + fifth_term)\n",
    "\n",
    "\n",
    "@jit\n",
    "def loss_fn_vib(loss_train, tlbs, beta):\n",
    "    \"\"\"Returns all the elements of the vib-ntk loss\"\"\"\n",
    "    mean, var = loss_train\n",
    "    mean = np.reshape(mean, mean.shape[:1] + (-1,))\n",
    "    mean_predictions = 0.5 * np.mean(tlbs ** 2 - 2 * mean * tlbs + mean ** 2,\n",
    "                                     axis=1)\n",
    "    term = 0.5 * beta * mean ** 2\n",
    "    third_term = 0.5 * var\n",
    "    return np.mean(mean_predictions), np.mean(term), np.mean(third_term)\n",
    "\n",
    "\n",
    "@jit\n",
    "def get_losses(gauss, tlbs, init_gauss=None, beta=0):\n",
    "    \"\"\"Return all the ;oasses\"\"\"\n",
    "    tcut = tlbs.shape[1]\n",
    "    gibbs_loss = loss_fn(gauss, tlbs, tcut)\n",
    "    bayes_loss = get_bayes_loss(gauss, tlbs, tcut)\n",
    "    mean_pred, beta_term, trace_term = loss_fn_vib(gauss, tlbs, beta)\n",
    "    return LOSS_MET(bayes_loss=bayes_loss, gibbs_loss=gibbs_loss, mean_pred=mean_pred,\n",
    "                    beta_term=beta_term, trace_term=trace_term)\n",
    "\n",
    "\n",
    "\n",
    "def calc_metrics(t, predict_fn, init_preds, beta):\n",
    "    \"\"\"Calculate info metrics based for the given time for both train and test.\"\"\"\n",
    "    trains = [train_images, train_labels, 'train']\n",
    "    tests = [test_images, test_labels, 'test']\n",
    "    data = [trains, tests]\n",
    "    dict_val = {}\n",
    "    for data_part, init_pred in zip(data, init_preds):\n",
    "        images, labels, name = data_part\n",
    "        pred = predict_fn(t=t, x_test=images)\n",
    "        for metric_dict in metrics_func:\n",
    "            metric_names = metric_dict.names\n",
    "            metric_func_inner = metric_dict.func\n",
    "            metric_val = metric_func_inner(pred, labels, init_pred, beta)\n",
    "            for metric_name in metric_names:\n",
    "                val = getattr(metric_val, metric_name)\n",
    "                dict_val['{}_{}'.format(metric_name, name)] = val\n",
    "    return dict_val"
   ]
  },
  {
   "cell_type": "code",
   "execution_count": 7,
   "id": "2488c371",
   "metadata": {},
   "outputs": [],
   "source": [
    "def process(arr, covnet):\n",
    "    return arr ### no need to change the shape. orginal code changes shaped based on cnn/dense layers\n",
    "\n",
    "\n",
    "def load_data(train_images, train_labels,test_images, test_labels, test_size, covnet=False, nb_classes=10, binary_labels=True):\n",
    "#     (train_images, train_labels), (test_images, test_labels) = tfds.as_numpy(tfds.load(\n",
    "#         dataset, split=['train', 'test'], batch_size=-1, as_supervised=True))\n",
    "    #print(train_images.shape)\n",
    "    train_images = process(train_images, covnet)\n",
    "    #print(train_images.shape)\n",
    "    test_images = process(test_images, covnet)\n",
    "#     train_images = train_images[:train_size]\n",
    "#     train_labels = train_labels[:train_size]\n",
    "    test_images = test_images[:test_size]\n",
    "    test_labels = test_labels[:test_size]\n",
    "    train_labels = 2 * (train_labels % 2 == 0) - 1\n",
    "    test_labels = 2 * (test_labels % 2 == 0) - 1\n",
    "\n",
    "    return train_images, train_labels[:, None].astype('float32'), test_images, test_labels[:, None].astype('float32')\n"
   ]
  },
  {
   "cell_type": "code",
   "execution_count": 8,
   "id": "a1ec3293",
   "metadata": {},
   "outputs": [],
   "source": [
    "def gradient_descent_mse_vib(beta, train_images, train_labels, diag_reg, ker_fn):\n",
    "    # In vib-ntk with fixed prior and fixed covariance for the encoder we need to scale Y with (1+beta)\n",
    "    # and to scale the time\n",
    "    new_train_labels = train_labels / (1 + beta)\n",
    "    predict_fn = gradient_descent_mse_ensemble(kernel_fn=ker_fn, x_train=train_images, y_train=new_train_labels,\n",
    "                                               diag_reg=diag_reg)\n",
    "\n",
    "    # Scale it by t+1\n",
    "    def predict_fn_lam(t, x_test, get, compute_cov):\n",
    "        mean = predict_fn(t=t * (1 + beta), x_test=x_test, get=get, compute_cov=compute_cov)\n",
    "        if not compute_cov:\n",
    "            sig = np.ones([len(mean), ])\n",
    "        else:\n",
    "            mean, sig = mean\n",
    "            sig = np.diag(sig)\n",
    "        return mean, sig\n",
    "    return predict_fn_lam\n",
    "\n",
    "\n",
    "def maker(beta=0, w_std=0.8, t=0, b_std=0, diag_reg=1e-4, compute_cov=False):\n",
    "    init_fn, apply_fn, ker_fn = nt.stax.serial(\n",
    "#             nt.stax.Conv(1, (3,3), W_std=w_std, b_std=b_std),\n",
    "#             nt.stax.Relu(),\n",
    "#             nt.stax.AvgPool((8,8)),\n",
    "        \n",
    "#             nt.stax.Conv(1, (3,3), W_std=w_std, b_std=b_std),\n",
    "#             nt.stax.Relu(),\n",
    "#             nt.stax.AvgPool((4,4)),\n",
    "        \n",
    "# #             nt.stax.Conv(6, (3,3), W_std=w_std, b_std=b_std),\n",
    "# #             nt.stax.Relu(),\n",
    "# #             nt.stax.AvgPool((4,4)),\n",
    "            \n",
    "#             nt.stax.Flatten(),\n",
    "        \n",
    "#             nt.stax.Dense(1, W_std=w_std, b_std=b_std))\n",
    "            \n",
    "            nt.stax.Dense(512, W_std=w_std, b_std=b_std),\n",
    "            nt.stax.Relu(),\n",
    "            nt.stax.Dense(128, W_std=w_std, b_std=b_std),\n",
    "            nt.stax.Relu(),\n",
    "            nt.stax.Dense(32, W_std=w_std, b_std=b_std),\n",
    "            nt.stax.Relu(),\n",
    "            nt.stax.Dense(1, W_std=w_std, b_std=b_std))\n",
    "        \n",
    "    ker_fn = nt.batch(ker_fn, batch_size=batch_size, device_count=num_of_gpus, store_on_device=True)\n",
    "        \n",
    "        \n",
    "    predict_fn = gradient_descent_mse_vib(beta, train_images, train_labels, diag_reg, ker_fn)\n",
    "    predict_fn = partial(predict_fn, get='ntk', compute_cov=compute_cov)\n",
    "    init_pred_train = predict_fn(t=0, x_test=train_images)\n",
    "    init_pred_test = predict_fn(t=0, x_test=test_images)\n",
    "    return calc_metrics(t, predict_fn=predict_fn, init_preds=[init_pred_train, init_pred_test], beta=beta)"
   ]
  },
  {
   "cell_type": "code",
   "execution_count": 9,
   "id": "aceaf059",
   "metadata": {},
   "outputs": [],
   "source": [
    "loss_metrics_name = ['bayes_loss', 'gibbs_loss', 'mean_pred', 'beta_term', 'trace_term']\n",
    "vib_loss_metrics_name = ['vib_bayes_loss', 'vib_gibbs_loss']\n",
    "ixt_metrics_name = ['ixt_lower', 'ixt_upper']\n",
    "vib_ixt_metrics_name = ['vib_ixt_lower', 'vib_ixt_upper']\n",
    "dkl_metrics_name = ['dkl_output']\n",
    "dist_metrics_name = ['parameter_distance']\n",
    "itd_metrics_name = ['i_theta_data']\n",
    "LOSS_MET = collections.namedtuple('loss_metrics', loss_metrics_name)\n",
    "IXT_MET = collections.namedtuple('ixt_metrics', ixt_metrics_name)\n",
    "DKL_MET = collections.namedtuple('dkl_output', dkl_metrics_name)\n",
    "DIST_MET = collections.namedtuple('parameter_distance', dist_metrics_name)\n",
    "ITD_MET = collections.namedtuple('i_theta_data', itd_metrics_name)\n",
    "\n",
    "MetricsTuple = collections.namedtuple('metrics', tuple(['names', 'func']))\n",
    "metrics = {\n",
    "    'losses': MetricsTuple(tuple(loss_metrics_name), get_losses),\n",
    "    'ixt': MetricsTuple(tuple(ixt_metrics_name), get_info_nec),\n",
    "    'dkl_output': MetricsTuple(tuple(dkl_metrics_name), get_kl_posterior_prior)\n",
    "}"
   ]
  },
  {
   "cell_type": "code",
   "execution_count": 10,
   "id": "12a7721c",
   "metadata": {},
   "outputs": [],
   "source": [
    "dataset = 'MNIST'\n",
    "net_type = 'FC'\n",
    "train_size = 4000\n",
    "test_size = 1000\n",
    "batch_size = 250\n",
    "\n",
    "\n",
    "ts_min = -3\n",
    "ts_max = 20\n",
    "num_ts = 2\n",
    "\n",
    "sigs_min = -4\n",
    "sigs_max = 2.2\n",
    "num_sigs = 30\n",
    "\n",
    "beta_min = -15\n",
    "beta_max = 2\n",
    "num_betas = 30\n",
    "\n",
    "num_of_gpus = 4\n",
    "b_std = 0.\n",
    "dig_reg = 1e-4\n",
    "run_metrics = ['losses', 'ixt', 'dkl_output']\n",
    "params = {'train_size': train_size, 'test_size': test_size, 'dataset': dataset, 'net_type': net_type,\n",
    "          'ts_min': ts_min, 'ts_max': ts_max, 'b_std': b_std, 'num_ts': num_ts, 'sigs_min': sigs_min,\n",
    "          'sigs_max': sigs_max,\n",
    "          'num_sigs': num_sigs, 'dig_reg': dig_reg, 'batch_size': batch_size}"
   ]
  },
  {
   "cell_type": "code",
   "execution_count": 11,
   "id": "c47ec8df",
   "metadata": {},
   "outputs": [],
   "source": [
    "metrics_func = tuple([metrics[key] for key in run_metrics if key in metrics])\n",
    "ts = np.logspace(ts_min, ts_max, num_ts)\n",
    "sigs = np.logspace(sigs_min, sigs_max, num_sigs)\n",
    "betas = np.logspace(beta_min, beta_max, num_betas)\n",
    "\n",
    "# changed jax.np logspcae to originla np. "
   ]
  },
  {
   "cell_type": "code",
   "execution_count": null,
   "id": "81f5f5b2",
   "metadata": {},
   "outputs": [],
   "source": []
  },
  {
   "cell_type": "code",
   "execution_count": 13,
   "id": "51fdada0",
   "metadata": {},
   "outputs": [],
   "source": [
    "ts = np.linspace(1e-1,1e+4, num = 1000)"
   ]
  },
  {
   "cell_type": "code",
   "execution_count": null,
   "id": "f0cde958",
   "metadata": {},
   "outputs": [],
   "source": []
  },
  {
   "cell_type": "code",
   "execution_count": 14,
   "id": "d6723440",
   "metadata": {},
   "outputs": [],
   "source": [
    "def add_white_path(image, loc_x, loc_y):\n",
    "    #add a 3*3 white patch at loc_x,loc_y\n",
    "    image = image.reshape(28,28)\n",
    "    for x in range(3):\n",
    "        for y in range(3):\n",
    "            image[loc_x-1+x, loc_y-1+y] = 1\n",
    "        \n",
    "    \n",
    "    return image.reshape(-1)\n",
    "    "
   ]
  },
  {
   "cell_type": "code",
   "execution_count": 15,
   "id": "fb65c3d5",
   "metadata": {},
   "outputs": [],
   "source": [
    "x_train = onp.load('mnist_shortcut_dataset/mnist_x_train_orginal.npy')\n",
    "x_label = onp.load('mnist_shortcut_dataset/y_train_original.npy')"
   ]
  },
  {
   "cell_type": "code",
   "execution_count": 16,
   "id": "2d9cbd19",
   "metadata": {},
   "outputs": [],
   "source": [
    "x = add_white_path(x_train[23], 26,26)\n"
   ]
  },
  {
   "cell_type": "code",
   "execution_count": 17,
   "id": "f0e3aab3",
   "metadata": {},
   "outputs": [
    {
     "data": {
      "text/plain": [
       "<matplotlib.image.AxesImage at 0x2aaf33f0af10>"
      ]
     },
     "execution_count": 17,
     "metadata": {},
     "output_type": "execute_result"
    },
    {
     "data": {
      "image/png": "[encoded data removed]",
      "text/plain": [
       "<Figure size 432x288 with 1 Axes>"
      ]
     },
     "metadata": {},
     "output_type": "display_data"
    }
   ],
   "source": [
    "plt.imshow(x.reshape(28,28))"
   ]
  },
  {
   "cell_type": "code",
   "execution_count": 18,
   "id": "5844db77",
   "metadata": {},
   "outputs": [],
   "source": [
    "def corr_images(x_train, y, ratio):\n",
    "    # ratio is between 0-1\n",
    "    for i in [0,2,4,6,8]:\n",
    "        \n",
    "        idx = onp.where(y == i)[0]\n",
    "        onp.random.shuffle(idx)\n",
    "        \n",
    "        #select images accorting the ratio for adding shortcut\n",
    "        print(idx)\n",
    "        num_corr = int(ratio*len(idx))\n",
    "#         print(i, num_corr)\n",
    "        for j in range(num_corr):\n",
    "\n",
    "            x_train[idx[j]] = add_white_path(x_train[idx[j]], 26, 26)\n",
    "            \n",
    "            \n",
    "        \n",
    "        \n",
    "    return x_train\n",
    "        \n",
    "    "
   ]
  },
  {
   "cell_type": "code",
   "execution_count": 19,
   "id": "b2ef3984",
   "metadata": {},
   "outputs": [],
   "source": [
    "def sample_dataset(x,y,size): # returns a balanced dataset \n",
    "    \n",
    "    class_size = size//10 ## mnist has 10 clasees \n",
    "\n",
    "    temp_x = []\n",
    "    temp_y = []\n",
    "    \n",
    "    for i in range(10):\n",
    "        \n",
    "        idx = onp.where(y==i)[0][:class_size]\n",
    "        temp_x.append(x[idx].reshape(-1,784))\n",
    "        temp_y.append(y[idx])\n",
    "        \n",
    "\n",
    "    temp_x = onp.array(temp_x).reshape(-1,784)\n",
    "    temp_y = onp.array(temp_y).reshape(-1)\n",
    "    \n",
    "#     print(temp_x.shape)\n",
    "#     print(temp_y.shape)\n",
    "\n",
    "    shuffle_idx = onp.arange(size)\n",
    "    onp.random.shuffle(shuffle_idx)\n",
    "    \n",
    "    \n",
    "    \n",
    "    return temp_x[shuffle_idx], temp_y[shuffle_idx]\n",
    "    "
   ]
  },
  {
   "cell_type": "code",
   "execution_count": 36,
   "id": "568a1d80",
   "metadata": {},
   "outputs": [
    {
     "name": "stdout",
     "output_type": "stream",
     "text": [
      "===== Training with shortcut effectiveness = 60.0 %\n"
     ]
    },
    {
     "name": "stderr",
     "output_type": "stream",
     "text": [
      "  1%|          | 11/1000 [01:20<1:59:53,  7.27s/it]\n",
      "\n",
      "KeyboardInterrupt\n",
      "\n"
     ]
    }
   ],
   "source": [
    "\n",
    "\n",
    "ratio_effect = [0.6,0.7,0.8,0.9,1]\n",
    "\n",
    "for ratio in ratio_effect:\n",
    "    \n",
    "    print('===== Training with shortcut effectiveness =', ((ratio)*100), '%')\n",
    "    \n",
    "    # load noise train images:\n",
    "    x_data = onp.load('mnist_shortcut_dataset/mnist_x_train_orginal.npy')\n",
    "\n",
    "    #load corresponding original label:\n",
    "    x_label = onp.load('mnist_shortcut_dataset/y_train_original.npy')\n",
    "    \n",
    "    ## sample balanced training dataset \n",
    "    \n",
    "    \n",
    "    x_train, y_train = sample_dataset(x_data, x_label, train_size)\n",
    "    \n",
    "    \n",
    "    #corrupt_images\n",
    "\n",
    "    x_train = corr_images(x_train, y_train, ratio)\n",
    "    \n",
    "\n",
    "    \n",
    "    ##convert labels to odd/even classes\n",
    "    y_train = y_train%2\n",
    "\n",
    "    #load clean test data and labels\n",
    "    x_test = np.load('mnist_shortcut_dataset/mnist_x_test_ood.npy')\n",
    "    y_test = np.load('mnist_shortcut_dataset/mnist_y_test_ood.npy')\n",
    "    x_test = x_test.reshape(-1,784)\n",
    "    \n",
    "    train_images, train_labels, test_images, test_labels = load_data(x_train,y_train, x_test, y_test,\n",
    "                                                                    test_size=test_size)\n",
    "\n",
    "    \n",
    "    output = []\n",
    "\n",
    "    for time in tqdm(ts):\n",
    "\n",
    "        output.append(maker(beta=0.2, w_std=1.5, t=time, b_std=0, diag_reg=1e-4, compute_cov=False))\n",
    "        \n",
    "#     np.save('experiments_outputs_logs/single_patch_effectiveness/effectiveness_' + str((ratio)*100), output )\n",
    "    "
   ]
  },
  {
   "cell_type": "code",
   "execution_count": null,
   "id": "d4d39185",
   "metadata": {},
   "outputs": [],
   "source": []
  },
  {
   "cell_type": "code",
   "execution_count": null,
   "id": "bbbb7a13",
   "metadata": {},
   "outputs": [],
   "source": []
  },
  {
   "cell_type": "code",
   "execution_count": null,
   "id": "7a89ae0b",
   "metadata": {},
   "outputs": [],
   "source": []
  },
  {
   "cell_type": "code",
   "execution_count": 19,
   "id": "f4ad5352",
   "metadata": {},
   "outputs": [
    {
     "name": "stdout",
     "output_type": "stream",
     "text": [
      "[1807 2559 1590  283 1574 1667  848  398 1669 1381 3119 3994 3952 1723\n",
      "  966 2981 1184 3276 3714 2757 1319 1313 3569 1284 1215 3826 3861 1929\n",
      " 2545   27 2036 3405 3433 2822  516 1224 1268 3649 2631 2374 3559 1783\n",
      " 1982 1707  429  132  108  479 2265 2181  464 3794 3035   14  912 2926\n",
      " 3959 2386 3492 1678 2764 1864 3982 1745 1510   77  536   15 2206 2397\n",
      "  644 3419 1944 1945  669 1213 3622  913 3064 2562 2268 2090 3532 1823\n",
      " 1099  507 2835 2807 1041 2249 2607 2796 1751 2528 2620 1290  281 3608\n",
      " 2864 3806 2399 3996 3764  148 2855 3553 3303  648 3292  502 1871  473\n",
      " 3172 2008 3519  336  123 2003  182 2406  583 1960 3624 1428 3681  400\n",
      " 3505 3101 2380 2142 3710 2827  572 1281 2825 2555 1091 3062 2840 1432\n",
      " 3386 3750 3221 3595 3137  555 2971  291 1080 1570 2292    6 3536 1555\n",
      " 1145   22 1812 1537  419 2418  477 2534 2025  235 1055  518 3468 2937\n",
      "  614 2311 1971 2954 1475 3525 1033  423 2413 1987 1094 2197 3929  973\n",
      " 1625 2539  821 2537  687 2075 2250 1340 2462  141 3691  531 2638 2779\n",
      " 3272 1073 3740 2147 2175 3091 3730 1624 2863  133 2557 1448 3081 3734\n",
      " 2295  752   61 1244  606  542 2213 2165  923  189  613 1622 1688 2133\n",
      " 2078 1180 1976 2535 2369 1461    1 2419 2904 2569 2685 3995 1536 3146\n",
      " 1832 2689  455  920 3508 3223 2477 3811 3079   58 1146 1543 2550  802\n",
      " 1991 1779 3777 2754 3366 1631 3535  589 3257  124 3661 3071 1214 1607\n",
      " 3705 2968 1363 3259 3459 3601 1275 2672  110 3055 1326 1108  396 2204\n",
      " 3756 1295 3302  869 2288 2543 1619  106  570  463 3278 1657 1321 2722\n",
      " 2861 3057 2388 1854  804 1182 1699  937  328  492  223 1924 3896 3707\n",
      " 3039 3327  431 3823 2350 3848 1430 2802 3021  546 3899 2726  851 2818\n",
      " 1171 1409  964   93 2409 1845 2017 2480 3410 2965  539 3890 2478 1608\n",
      " 3394 2345 1810  596  962 3885 2421 1358  394 2805  499 2459 1202 1254\n",
      "  580 1704 1060 1695 1391 2363 2916 2785 3903 1798 2645 3409 2473 3153\n",
      " 1467 2432 1458  420  647  909 2917 1656  444 3733 3565  304 3445 3988\n",
      " 1465  620  953 3547 3742  618 2540 2009 2948 2237 2405 1066 3518 1855\n",
      " 2461 1124 2455 1229 3389  442 1237 1954]\n",
      "[1117 2700 2012 2977 3353 3961  462 1789 2608  855  743  145   81 1949\n",
      " 1601 2472  472 3286  800 2108 1446  772 3440 1958 2910 1081 3233 2541\n",
      " 2523 2493 1449  249 1384  315 1355 1964 1934 1731 3183   90 1632 3048\n",
      " 1826  454 2287  686 2416 3289  529  232 3258 3815  480 2612 3688 2424\n",
      " 1573 1279 3783 2854 2170 1065 1159 1737 3808 3570 1136 3721 3706 3058\n",
      " 2394 1564 1951 1878 2479 3917 1042 2083 1153 1584  255 2669  847 3054\n",
      " 3768 2139 2565 2032  814 1820 1793 1655  653 2205 2953 1680 1523 1245\n",
      "  842 3522 2408 1372 1867  758 2570 2692 3123 2725  284  930 3262 2069\n",
      "  244 3770 2468  858 1806 3197  786 2080 3373 2286  637 3964 2188 3546\n",
      " 2973 3951 2799 1606 1990 3097 2245  918  428 3000 2135 3796 1225 2625\n",
      "  278 2189 3050 3100 1076 1434  963 2092  187 1685 3618  610 2267 2145\n",
      " 3753 3797  230 2276 3015  360 3076 2730 1804 1119 1739  275 1001  449\n",
      " 3165 2296 1442 1089 1095 1839  150 1168  903 2846  198 2592 1802 3042\n",
      " 3859 3563 1235  998 3708 2761 1786 1869 3983 1433 2877 2253 3157   79\n",
      " 2860 2896 2102 3163  801 3941 1336 3913  229 3793 3466  791 2006  234\n",
      " 2093 3640  271 1932 3925 2465  996  457  762   70  156  316  446 1344\n",
      " 1390 1904 1387  846  951 1702 3619 2529 1427   19 1082 1063 2664 3318\n",
      " 3504  340  850 3279 2043  327  979 3454  978 3152  191 3204 1032 2051\n",
      " 3630 1774 3537 1101   88 2731 2766 2709 2735 2469 3060 1482  128 3910\n",
      " 3367 2848  210  683  569   84 3641 3352  889 3141 1278  127  831   78\n",
      " 1940 2514  362 1111  844 2103 3085 2252 1130 1362 1828 1137 2196 2581\n",
      "  834 2939 3486 1741  825  143  528  486  719 2398  129 1771 2396 3270\n",
      "  931 1920  186 2654 2755 1833 3830   17 3703 2243 3955 3880 2891 1129\n",
      "  288 2313  892 3562   24 3639 1552 3243  195 2053 1260 2866 3502  317\n",
      " 3736 2630 2941  272 3500 1489 1453 2046 1784 1170 2987  501 1133 3572\n",
      "   99  517 2993 2908  672  510  459  778 2677 2116 2558 2696 1025 3248\n",
      " 2339 2367 1700  321  435 3006 2109 2191 1481 1203  761 1785 3106 3698\n",
      " 2489  508  537 2446 3078  995 3144  958 1906 1040  243 3357 2048 2216\n",
      " 1021 2985 1008  616 2695 1188 2729 2302]\n",
      "[  30 1128 2023 3791 2324 2931 1925 3452 3413 3672  859 1122  599 3760\n",
      " 2375  159 2466 2767 2716 1375 2748 3107 2621 1644 2099  684 2801  310\n",
      "  779  584  348  313 1875 2158  369 2615   87 2013  604 3479 2018 2880\n",
      " 2202  276 2223 2879 1173  853 3666  408 1004 3704 3591 1509 1765  788\n",
      " 3838 3636 1161 3232  595 3160 1627  915 1386 1950 3281 1742 3082 3762\n",
      " 2674 1649 2618 3647  787 2160 1720  811   25 3477  554  789 2811 2141\n",
      " 1044 2177  149  664 1912 2180 3128 1476  939 2642  504 3879 2308 3275\n",
      " 3216 1913 3401   67 2476 2988 2626  868 3213 3075 1385  448  976   59\n",
      " 2307 2706 1061  881 1549 3124 1635 1273 1813 1491 2113 2733 3568  204\n",
      " 1424  579 2258 1594 2410  645  993 3597 3944  715 1265 1269 2186 3425\n",
      " 3520  902  908 3031 1172 1132 3564 2220  308 1740 3265  116   28  593\n",
      " 2927 2347 3059 3192 2060 3816 3325 3802 1684 1317 1068 2599  485 3102\n",
      "  839 3241    2 3864 3906 1648  560 1762 3682 3637 3182 2067 1599 2658\n",
      "  997   97  279  658 1550  577  146 3480 3837 1922 2732 1887 2494 2598\n",
      " 3654 1566  646  289 1670 2736 3786 2688  122  907 1216 1848  568 1962\n",
      " 2169 2902 3972 1877  505 2054 3699 3434 3831 3457 1079 2666 1849 2422\n",
      " 2958 1712 2274  965 3226 2077  549 2527 3490 1726 2066 3585  103 3333\n",
      "  242 1056 3126 1963 3817 2445 3724  776  573 1356  625 2792 1717  425\n",
      " 1443  240 1637 2221 2157 3700 1901 3617  406 2881 2228  720 2200 2582\n",
      "   69 3222  467  267 3638 3976 1411 3723 3158  629 1675 1592  557 3598\n",
      " 2770  731 3488 2702 3066 1673  782 1359 2714 1586  854  383 1077 1494\n",
      " 2874 2572 3255 1928 2828  160 1600  598 2328  337 3088 2247 2086 1734\n",
      " 2429  299  329 2164 3853 2886 3453 3847 1986 2876 3856 3865 3891 1403\n",
      "  680 2281 3833 2890 2107 1847 1870 1499 1463  771 1271 2316 2063 1439\n",
      " 3844  730  849 3326 1534 2064 1525 2837 3735 3024 2629 1418 2293 2782\n",
      " 3118 3571 1725 3395 3841  266 2101  403 2330 3956  635 1618 2979 3541\n",
      "  716 3921 1028 1450 2299 1542 3966 3759 3177 3200 2859 1546  140  519\n",
      "  838  696 2162 1796 2240 1054  238  102 3515  790 2577 1480  461 3743\n",
      " 3187 3868 1516 1979  944  970 2590 3548]\n",
      "[1230  732 1219 2400 1014 1800 1621 2651 1527 3011 2124  522 3720 3590\n",
      " 3426 3449 3225 3804  955 2231  131  405 3482 3252 3033 3250 1120  170\n",
      " 2263 2698  725  886 1886 1466 3799 1440   89 3651 3471 2935 1070 1643\n",
      "  161  381  553 1022  393  783 1473 1858 3963 3396  496 3016 2765  370\n",
      " 3065 2458 2812 1097 2358 3680 2992 3834  588 2277 2442 2728 3245  250\n",
      "  421 2222 1496 1803 3605  322 2212   29 1918 1105 3481  422 2717  147\n",
      "  675 2738  438 1935  151 1438 2769  332 2030 3642 1834 1190 3772  724\n",
      "  630 2643 3307 1948 2300 1010 2047  312 3957 3887 3095 1691 1419 3711\n",
      " 2450  471 2844 1038  530 2146 2531 3220   37  168 3096 1388  611 2323\n",
      "  753 3282 2776 1350 3813 2010  661 3778 2096 3428 2224  112 3291 1891\n",
      " 3235 3083 1118 2087  171 1840  843  676 1323 1955 1142 2705 2136 3470\n",
      "  241 1459 3545 1483  893  991  436 2882 2331 2810 2259 3196 2270 1198\n",
      "  871  253 2635 1228 3544 2762 3835 1309 2775 1604 2659 3378 3696  795\n",
      " 1997 3361 2315  495 2289 1514  717 3810 3314 2403 1773 2707 3451 1059\n",
      " 2756 3593 2391 3269 1338 2834 1023 3709  713 1666  273 3052 3731 2269\n",
      " 3550 3758 2132   65 1693  470 3476 1138 1239 2662  357  174 3376 1078\n",
      "  545 3178 1148 2471  125  433  137 1186  728 2499 1821 1360 1143 1911\n",
      "  550 3240 1249 2447 2236 3231 2975 3380 3604 2298  201  203 3005 1531\n",
      " 3665 1127 3111 2230 3215 2969  500 2334 3150 3633 1109 2686 1605 1811\n",
      " 3902 3460 3554 2045 3030 1978 3193 3613 3037 1141 2843 1162  663 3513\n",
      "  263 2415 2143 2227  755 3968 2580 2604 2022  415 2215 1931 1232 3664\n",
      " 1195 3174 2800  368 2624 3356 1520 2619    4 3872 1337  208  597 1204\n",
      " 1750 1286 2809   55 1287  295 1907 2552 2852 2444 2485 2639 1703 3207\n",
      " 2933 2362 2507 1267 3236 3717 1177 1850 1889 2667 1234 2068 3615 3369\n",
      " 3306 2214 2110 3685  652 3509 2327 2140 2433 3905  343 2294 3846 2647\n",
      " 2905 2026  609 3839 1223 2959 3763 2435 1560  493 2040 3305 2524 2928\n",
      " 1098 3586  876 1782 3317 2329 3496 2525 2490 1150   72 2787 3495 2014\n",
      " 1547  767  770  602   36 3943  873 2699 2872 1352 2538 2306 3358 1209\n",
      " 3049  945 3089 3789 2232 1156  651 2111]\n",
      "[3229 1291  214 3264  840 2355 1175 1399 3214 2062 3360 3728 1251 2815\n",
      " 3217 1756 1799 3115 2519 2038 2005 1405 3230  206 2751  971 2655 2273\n",
      " 1719 2033    9 3986 1532 1853  565 3044  489 1860  535 1872 3203 2242\n",
      "  798 2617 1530 1933 3334  247 1167  592 1661 1305 2320 2897 2772 2128\n",
      " 1468 2159  261  292 3382   57 2768 3738 3473 1816 1329 3579 3450 1472\n",
      "  617 2887 3069 2547   18 1125 3842 2495 1346 2360  430 1397  476 3365\n",
      " 3329 1772 1899 3981   68 3162 3355  134 3339 2627 3300 2015  218 2745\n",
      "  334 2144 3975 1595 2309 3874  513  581  691 3296  395 2248 3391 2932\n",
      "   44  193 1303 1776 2428 3417  698 3228 2857 3331 3928 2536 2888 3893\n",
      " 3950 3134 1959  309 2149 1152   23   16 1545 1262  810 1200 2387 2024\n",
      "  197 1106  233 3757 2190 1792 2850  632 1994 2035 1965  948  911  335\n",
      " 3978 2924 1682 2622  781 3788 1490  154  888 3989 1529 1983 1777 2122\n",
      " 3689 2784  685 3937 1283 2457 1264  354 3271 1538 2304 2373 1272 2869\n",
      " 2217 3510 1112  926 2741 3456 2183  898 2990 1071 1651 2929 1107 1417\n",
      " 3472 2094 1193 2623 1539 3669 2918  144  297 1307  514 3028 2052 3186\n",
      " 3023 2950  349 3663 3026 2280  657 1242  740 2488 3345 3993 3769 3184\n",
      " 3503  754  169 1488  891 2283 3438  591 1020 3061 3432 1121 3022 3237\n",
      " 2544 3521 2711 1250 1614 2336 1500 3792 3398  307 2668 1310 2491 2464\n",
      " 1320 2970 3351 1597 3514  845 1233 2337 3179 3497 2272  547  180  552\n",
      " 3924 2978 1327 3077 2376 3437 3737 3423 2056  600 1506 1157 2209 2115\n",
      " 3478 1660 2071 1144 2791  977 3690   47 2105 3328 3560 2019  347 3448\n",
      " 1017 1857 1227    7 2121 2576 2841 2817  179 2712  450 3870 1174 2609\n",
      " 1139 1304 1368 2271  303 2974 1243 1805 2467 1544  885  751  603 1900\n",
      " 2972 3427  376 1413 1998 3403 3607 3576  765  823 3987  656  760 3180\n",
      "  207 1253 2673  959 2803  710 2088 3320 1880  999 1252 1815  359  608\n",
      " 1485   10 1512  269 2218 2512  412 3013 2551 2187 1074   50 2325  659\n",
      " 2130  105 3712  733 1164  152 1451  367 2401 1205 1469  797 3599 2264\n",
      " 1553  688 2914  784 1373 2303 2185 2301  983  856 1888  410 1166 2091\n",
      " 1394 2059  205 2884 2648 1522 2657 1910]\n"
     ]
    }
   ],
   "source": [
    "\n",
    "# load noise train images:\n",
    "x_data = onp.load('mnist_shortcut_dataset/mnist_x_train_orginal.npy')\n",
    "\n",
    "#load corresponding original label:\n",
    "x_label = onp.load('mnist_shortcut_dataset/y_train_original.npy')\n",
    "\n",
    "## sample balanced training dataset \n",
    "\n",
    "\n",
    "x_train, y_train = sample_dataset(x_data, x_label, train_size)\n",
    "\n",
    "\n",
    "#corrupt_images\n",
    "\n",
    "\n",
    "#corrupt with 90% effective noise\n",
    "x_train = corr_images(x_train, y_train, 0.9)\n",
    "\n",
    "\n",
    "    \n",
    "##convert labels to odd/even classes\n",
    "y_train = y_train%2\n",
    "\n",
    "#load clean test data and labels\n",
    "x_test = np.load('mnist_shortcut_dataset/mnist_x_test_ood.npy')\n",
    "y_test = np.load('mnist_shortcut_dataset/mnist_y_test_ood.npy')\n",
    "x_test = x_test.reshape(-1,784)\n",
    "\n",
    "train_images, train_labels, test_images, test_labels = load_data(x_train,y_train, x_test, y_test,\n",
    "                                                                test_size=test_size)"
   ]
  },
  {
   "cell_type": "code",
   "execution_count": null,
   "id": "463e7276",
   "metadata": {},
   "outputs": [],
   "source": []
  },
  {
   "cell_type": "code",
   "execution_count": null,
   "id": "724de4d4",
   "metadata": {},
   "outputs": [],
   "source": []
  },
  {
   "cell_type": "code",
   "execution_count": 25,
   "id": "6c26dbd9",
   "metadata": {},
   "outputs": [],
   "source": [
    "w_std=1.5\n",
    "beta=0.2\n",
    "diag_reg=1e-4\n",
    "compute_cov=False\n",
    "\n",
    "init_fn, apply_fn, ker_fn = nt.stax.serial(\n",
    "#             nt.stax.Conv(1, (3,3), W_std=w_std, b_std=b_std),\n",
    "#             nt.stax.Relu(),\n",
    "#             nt.stax.AvgPool((8,8)),\n",
    "\n",
    "#             nt.stax.Conv(1, (3,3), W_std=w_std, b_std=b_std),\n",
    "#             nt.stax.Relu(),\n",
    "#             nt.stax.AvgPool((4,4)),\n",
    "\n",
    "# #             nt.stax.Conv(6, (3,3), W_std=w_std, b_std=b_std),\n",
    "# #             nt.stax.Relu(),\n",
    "# #             nt.stax.AvgPool((4,4)),\n",
    "\n",
    "#             nt.stax.Flatten(),\n",
    "\n",
    "#             nt.stax.Dense(1, W_std=w_std, b_std=b_std))\n",
    "\n",
    "        nt.stax.Dense(512, W_std=w_std, b_std=b_std),\n",
    "        nt.stax.Relu(),\n",
    "        nt.stax.Dense(128, W_std=w_std, b_std=b_std),\n",
    "        nt.stax.Relu(),\n",
    "        nt.stax.Dense(32, W_std=w_std, b_std=b_std),\n",
    "        nt.stax.Relu(),\n",
    "        nt.stax.Dense(1, W_std=w_std, b_std=b_std))"
   ]
  },
  {
   "cell_type": "code",
   "execution_count": null,
   "id": "aadc7ca1",
   "metadata": {},
   "outputs": [],
   "source": []
  },
  {
   "cell_type": "code",
   "execution_count": 26,
   "id": "1de93785",
   "metadata": {},
   "outputs": [],
   "source": [
    "ker_fn = nt.batch(ker_fn, batch_size=250, device_count=num_of_gpus, store_on_device=True)\n",
    "predict_fn = gradient_descent_mse_vib(beta, train_images, train_labels, diag_reg, ker_fn)\n",
    "predict_fn = partial(predict_fn, get='ntk', compute_cov=compute_cov)"
   ]
  },
  {
   "cell_type": "code",
   "execution_count": 42,
   "id": "fea31959",
   "metadata": {},
   "outputs": [],
   "source": [
    "# def sal_map(time,image):\n",
    "    \n",
    "    \n",
    "#     image = np.array(image)\n",
    "    \n",
    "#     visalize_map = onp.zeros((28,28))\n",
    "    \n",
    "#     output_base = predict_fn(t=time, x_test=image.reshape(1,-1))[0]\n",
    "    \n",
    "#     perturb = 0.0001\n",
    "    \n",
    "#     for x in (range(28)):\n",
    "#         for y in tqdm(range(28)):\n",
    "#             image= image.reshape(28,28)\n",
    "            \n",
    "#             image_perturb = image.at[x,y].set(image[x,y]+perturb) \n",
    "            \n",
    "#             image_perturb = image_perturb.reshape(1,-1)\n",
    "#             output_perturb = predict_fn(t=time, x_test=image_perturb)[0]\n",
    "            \n",
    "#             visalize_map[x,y] = (output_perturb - output_base) / perturb\n",
    "            \n",
    "#     return visalize_map"
   ]
  },
  {
   "cell_type": "code",
   "execution_count": 20,
   "id": "8b2353e5",
   "metadata": {},
   "outputs": [],
   "source": [
    "def sal_map(time, image):\n",
    "    \n",
    "    image = np.array(image)\n",
    "    image= image.reshape(28,28)\n",
    "    \n",
    "    image_pert_list = []\n",
    "    cord = []\n",
    "#     output_base = predict_fn(t=time, x_test=image.reshape(1,-1))[0]\n",
    "    \n",
    "    perturb = 0.001\n",
    "\n",
    "    for x in range(28):\n",
    "        for y in range(28):\n",
    "            \n",
    "\n",
    "            image_perturb = image.at[x,y].set(image[x,y]+perturb) \n",
    "\n",
    "            image_perturb = image_perturb.reshape(-1)\n",
    "\n",
    "\n",
    "\n",
    "            image_pert_list.append(image_perturb)\n",
    "\n",
    "            cord.append([x,y])\n",
    "            \n",
    "    for _ in range(1000-784):   # add original images for running on four gpu with batch=250\n",
    "        image_pert_list.append(image.reshape(-1))\n",
    "        cord.append([-1, -1])\n",
    "        \n",
    "        \n",
    "        \n",
    "    output_perturb = predict_fn(t=time, x_test=np.array(image_pert_list))[0]\n",
    "    \n",
    "    output_base = output_perturb[999]\n",
    "    \n",
    "    visalize_map = onp.zeros((28,28))\n",
    "\n",
    "    \n",
    "    for i in range(784):\n",
    "        x,y= cord[i]\n",
    "        visalize_map[x,y] = (output_perturb[i] - output_base) / perturb\n",
    "    \n",
    "    \n",
    "    return visalize_map\n",
    "    \n",
    "            "
   ]
  },
  {
   "cell_type": "code",
   "execution_count": 34,
   "id": "6f0e7598",
   "metadata": {},
   "outputs": [],
   "source": [
    "temp = sal_map(2,x_train[41])"
   ]
  },
  {
   "cell_type": "code",
   "execution_count": 35,
   "id": "18ebf301",
   "metadata": {},
   "outputs": [
    {
     "data": {
      "text/plain": [
       "<matplotlib.image.AxesImage at 0x2ba80545e670>"
      ]
     },
     "execution_count": 35,
     "metadata": {},
     "output_type": "execute_result"
    },
    {
     "data": {
      "image/png": "[encoded data removed]",
      "text/plain": [
       "<Figure size 432x288 with 1 Axes>"
      ]
     },
     "metadata": {},
     "output_type": "display_data"
    }
   ],
   "source": [
    "plt.imshow(temp, cmap='viridis')"
   ]
  },
  {
   "cell_type": "code",
   "execution_count": 32,
   "id": "5b83298a",
   "metadata": {},
   "outputs": [
    {
     "data": {
      "text/plain": [
       "<matplotlib.image.AxesImage at 0x2ba0d7bf7310>"
      ]
     },
     "execution_count": 32,
     "metadata": {},
     "output_type": "execute_result"
    },
    {
     "data": {
      "image/png": "[encoded data removed]",
      "text/plain": [
       "<Figure size 432x288 with 1 Axes>"
      ]
     },
     "metadata": {},
     "output_type": "display_data"
    }
   ],
   "source": [
    "plt.imshow(x_train[41].reshape(28,28))"
   ]
  },
  {
   "cell_type": "code",
   "execution_count": 85,
   "id": "88c087b8",
   "metadata": {
    "scrolled": true
   },
   "outputs": [
    {
     "data": {
      "text/plain": [
       "DeviceArray([0.00000000e+00, 0.00000000e+00, 9.99999975e-05,\n",
       "             0.00000000e+00, 0.00000000e+00, 0.00000000e+00,\n",
       "             0.00000000e+00, 0.00000000e+00, 0.00000000e+00,\n",
       "             0.00000000e+00, 0.00000000e+00, 0.00000000e+00,\n",
       "             0.00000000e+00, 0.00000000e+00, 0.00000000e+00,\n",
       "             0.00000000e+00, 0.00000000e+00, 0.00000000e+00,\n",
       "             0.00000000e+00, 0.00000000e+00, 0.00000000e+00,\n",
       "             0.00000000e+00, 0.00000000e+00, 0.00000000e+00,\n",
       "             0.00000000e+00, 0.00000000e+00, 0.00000000e+00,\n",
       "             0.00000000e+00, 0.00000000e+00, 0.00000000e+00,\n",
       "             0.00000000e+00, 0.00000000e+00, 0.00000000e+00,\n",
       "             0.00000000e+00, 0.00000000e+00, 0.00000000e+00,\n",
       "             0.00000000e+00, 0.00000000e+00, 0.00000000e+00,\n",
       "             0.00000000e+00, 0.00000000e+00, 0.00000000e+00,\n",
       "             0.00000000e+00, 0.00000000e+00, 0.00000000e+00,\n",
       "             0.00000000e+00, 0.00000000e+00, 0.00000000e+00,\n",
       "             0.00000000e+00, 0.00000000e+00, 0.00000000e+00,\n",
       "             0.00000000e+00, 0.00000000e+00, 0.00000000e+00,\n",
       "             0.00000000e+00, 0.00000000e+00, 0.00000000e+00,\n",
       "             0.00000000e+00, 0.00000000e+00, 0.00000000e+00,\n",
       "             0.00000000e+00, 0.00000000e+00, 0.00000000e+00,\n",
       "             0.00000000e+00, 0.00000000e+00, 0.00000000e+00,\n",
       "             0.00000000e+00, 0.00000000e+00, 0.00000000e+00,\n",
       "             0.00000000e+00, 0.00000000e+00, 0.00000000e+00,\n",
       "             0.00000000e+00, 0.00000000e+00, 0.00000000e+00,\n",
       "             0.00000000e+00, 0.00000000e+00, 0.00000000e+00,\n",
       "             0.00000000e+00, 0.00000000e+00, 0.00000000e+00,\n",
       "             0.00000000e+00, 0.00000000e+00, 0.00000000e+00,\n",
       "             0.00000000e+00, 0.00000000e+00, 0.00000000e+00,\n",
       "             0.00000000e+00, 0.00000000e+00, 0.00000000e+00,\n",
       "             0.00000000e+00, 0.00000000e+00, 0.00000000e+00,\n",
       "             0.00000000e+00, 0.00000000e+00, 0.00000000e+00,\n",
       "             0.00000000e+00, 0.00000000e+00, 0.00000000e+00,\n",
       "             0.00000000e+00, 0.00000000e+00, 0.00000000e+00,\n",
       "             0.00000000e+00, 0.00000000e+00, 0.00000000e+00,\n",
       "             0.00000000e+00, 0.00000000e+00, 0.00000000e+00,\n",
       "             0.00000000e+00, 0.00000000e+00, 0.00000000e+00,\n",
       "             0.00000000e+00, 0.00000000e+00, 0.00000000e+00,\n",
       "             0.00000000e+00, 0.00000000e+00, 0.00000000e+00,\n",
       "             0.00000000e+00, 0.00000000e+00, 0.00000000e+00,\n",
       "             0.00000000e+00, 0.00000000e+00, 0.00000000e+00,\n",
       "             1.01960786e-01, 8.62745106e-01, 8.78431380e-01,\n",
       "             1.21568628e-01, 0.00000000e+00, 0.00000000e+00,\n",
       "             0.00000000e+00, 0.00000000e+00, 0.00000000e+00,\n",
       "             0.00000000e+00, 0.00000000e+00, 0.00000000e+00,\n",
       "             0.00000000e+00, 0.00000000e+00, 0.00000000e+00,\n",
       "             0.00000000e+00, 0.00000000e+00, 0.00000000e+00,\n",
       "             0.00000000e+00, 0.00000000e+00, 0.00000000e+00,\n",
       "             0.00000000e+00, 0.00000000e+00, 0.00000000e+00,\n",
       "             0.00000000e+00, 0.00000000e+00, 7.84313772e-03,\n",
       "             5.09803928e-02, 4.78431374e-01, 9.88235295e-01,\n",
       "             4.78431374e-01, 0.00000000e+00, 0.00000000e+00,\n",
       "             0.00000000e+00, 0.00000000e+00, 0.00000000e+00,\n",
       "             0.00000000e+00, 0.00000000e+00, 0.00000000e+00,\n",
       "             0.00000000e+00, 0.00000000e+00, 0.00000000e+00,\n",
       "             0.00000000e+00, 0.00000000e+00, 0.00000000e+00,\n",
       "             0.00000000e+00, 0.00000000e+00, 0.00000000e+00,\n",
       "             0.00000000e+00, 0.00000000e+00, 0.00000000e+00,\n",
       "             0.00000000e+00, 0.00000000e+00, 0.00000000e+00,\n",
       "             1.84313729e-01, 9.96078432e-01, 9.96078432e-01,\n",
       "             7.41176486e-01, 0.00000000e+00, 0.00000000e+00,\n",
       "             0.00000000e+00, 0.00000000e+00, 0.00000000e+00,\n",
       "             0.00000000e+00, 0.00000000e+00, 0.00000000e+00,\n",
       "             0.00000000e+00, 0.00000000e+00, 0.00000000e+00,\n",
       "             0.00000000e+00, 0.00000000e+00, 0.00000000e+00,\n",
       "             0.00000000e+00, 0.00000000e+00, 0.00000000e+00,\n",
       "             0.00000000e+00, 0.00000000e+00, 0.00000000e+00,\n",
       "             0.00000000e+00, 0.00000000e+00, 0.00000000e+00,\n",
       "             3.60784322e-01, 8.47058833e-01, 9.96078432e-01,\n",
       "             8.35294127e-01, 1.21568628e-01, 0.00000000e+00,\n",
       "             0.00000000e+00, 0.00000000e+00, 0.00000000e+00,\n",
       "             0.00000000e+00, 2.19607845e-01, 5.84313750e-01,\n",
       "             3.84313732e-01, 7.84313772e-03, 0.00000000e+00,\n",
       "             0.00000000e+00, 0.00000000e+00, 0.00000000e+00,\n",
       "             0.00000000e+00, 0.00000000e+00, 0.00000000e+00,\n",
       "             0.00000000e+00, 0.00000000e+00, 0.00000000e+00,\n",
       "             0.00000000e+00, 0.00000000e+00, 0.00000000e+00,\n",
       "             1.56862754e-02, 6.58823550e-01, 9.96078432e-01,\n",
       "             8.94117653e-01, 1.21568628e-01, 0.00000000e+00,\n",
       "             0.00000000e+00, 0.00000000e+00, 0.00000000e+00,\n",
       "             0.00000000e+00, 0.00000000e+00, 3.68627459e-01,\n",
       "             9.96078432e-01, 1.00000000e+00, 7.05882385e-02,\n",
       "             0.00000000e+00, 0.00000000e+00, 0.00000000e+00,\n",
       "             0.00000000e+00, 0.00000000e+00, 0.00000000e+00,\n",
       "             0.00000000e+00, 0.00000000e+00, 0.00000000e+00,\n",
       "             0.00000000e+00, 0.00000000e+00, 0.00000000e+00,\n",
       "             1.17647061e-02, 4.74509805e-01, 9.96078432e-01,\n",
       "             9.76470590e-01, 4.66666669e-01, 0.00000000e+00,\n",
       "             0.00000000e+00, 0.00000000e+00, 0.00000000e+00,\n",
       "             0.00000000e+00, 0.00000000e+00, 0.00000000e+00,\n",
       "             3.68627459e-01, 9.96078432e-01, 9.96078432e-01,\n",
       "             7.05882385e-02, 0.00000000e+00, 0.00000000e+00,\n",
       "             0.00000000e+00, 0.00000000e+00, 0.00000000e+00,\n",
       "             0.00000000e+00, 0.00000000e+00, 0.00000000e+00,\n",
       "             0.00000000e+00, 0.00000000e+00, 0.00000000e+00,\n",
       "             0.00000000e+00, 7.45098069e-02, 9.96078432e-01,\n",
       "             9.96078432e-01, 8.50980401e-01, 0.00000000e+00,\n",
       "             0.00000000e+00, 0.00000000e+00, 0.00000000e+00,\n",
       "             0.00000000e+00, 0.00000000e+00, 0.00000000e+00,\n",
       "             0.00000000e+00, 3.68627459e-01, 9.96078432e-01,\n",
       "             9.96078432e-01, 7.05882385e-02, 0.00000000e+00,\n",
       "             0.00000000e+00, 0.00000000e+00, 0.00000000e+00,\n",
       "             0.00000000e+00, 0.00000000e+00, 0.00000000e+00,\n",
       "             0.00000000e+00, 0.00000000e+00, 0.00000000e+00,\n",
       "             0.00000000e+00, 0.00000000e+00, 7.45098069e-02,\n",
       "             9.96078432e-01, 9.96078432e-01, 8.50980401e-01,\n",
       "             0.00000000e+00, 0.00000000e+00, 0.00000000e+00,\n",
       "             0.00000000e+00, 0.00000000e+00, 0.00000000e+00,\n",
       "             0.00000000e+00, 0.00000000e+00, 7.01960802e-01,\n",
       "             9.96078432e-01, 1.00000000e+00, 7.05882385e-02,\n",
       "             0.00000000e+00, 0.00000000e+00, 0.00000000e+00,\n",
       "             0.00000000e+00, 0.00000000e+00, 0.00000000e+00,\n",
       "             0.00000000e+00, 0.00000000e+00, 0.00000000e+00,\n",
       "             0.00000000e+00, 0.00000000e+00, 0.00000000e+00,\n",
       "             7.45098069e-02, 9.96078432e-01, 9.96078432e-01,\n",
       "             8.50980401e-01, 0.00000000e+00, 0.00000000e+00,\n",
       "             0.00000000e+00, 0.00000000e+00, 0.00000000e+00,\n",
       "             0.00000000e+00, 0.00000000e+00, 0.00000000e+00,\n",
       "             8.54901969e-01, 9.96078432e-01, 9.96078432e-01,\n",
       "             7.05882385e-02, 0.00000000e+00, 0.00000000e+00,\n",
       "             0.00000000e+00, 0.00000000e+00, 0.00000000e+00,\n",
       "             0.00000000e+00, 0.00000000e+00, 0.00000000e+00,\n",
       "             0.00000000e+00, 0.00000000e+00, 0.00000000e+00,\n",
       "             0.00000000e+00, 5.88235296e-02, 8.98039222e-01,\n",
       "             9.96078432e-01, 9.60784316e-01, 4.11764711e-01,\n",
       "             7.84313753e-02, 0.00000000e+00, 0.00000000e+00,\n",
       "             0.00000000e+00, 0.00000000e+00, 0.00000000e+00,\n",
       "             8.62745121e-02, 8.90196085e-01, 9.96078432e-01,\n",
       "             9.96078432e-01, 7.05882385e-02, 0.00000000e+00,\n",
       "             0.00000000e+00, 0.00000000e+00, 0.00000000e+00,\n",
       "             0.00000000e+00, 0.00000000e+00, 0.00000000e+00,\n",
       "             0.00000000e+00, 0.00000000e+00, 0.00000000e+00,\n",
       "             0.00000000e+00, 0.00000000e+00, 0.00000000e+00,\n",
       "             1.92156866e-01, 8.94117653e-01, 9.96078432e-01,\n",
       "             9.96078432e-01, 8.31372559e-01, 6.50980413e-01,\n",
       "             2.70588249e-01, 6.66666701e-02, 0.00000000e+00,\n",
       "             0.00000000e+00, 3.45098048e-01, 9.96078432e-01,\n",
       "             9.96078432e-01, 6.82352960e-01, 1.96078438e-02,\n",
       "             0.00000000e+00, 0.00000000e+00, 0.00000000e+00,\n",
       "             0.00000000e+00, 0.00000000e+00, 0.00000000e+00,\n",
       "             0.00000000e+00, 0.00000000e+00, 0.00000000e+00,\n",
       "             0.00000000e+00, 0.00000000e+00, 0.00000000e+00,\n",
       "             0.00000000e+00, 0.00000000e+00, 4.70588237e-01,\n",
       "             9.96078432e-01, 9.96078432e-01, 9.96078432e-01,\n",
       "             9.96078432e-01, 9.96078432e-01, 7.01960802e-01,\n",
       "             6.66666701e-02, 0.00000000e+00, 3.45098048e-01,\n",
       "             9.96078432e-01, 9.96078432e-01, 5.80392182e-01,\n",
       "             0.00000000e+00, 0.00000000e+00, 0.00000000e+00,\n",
       "             0.00000000e+00, 0.00000000e+00, 0.00000000e+00,\n",
       "             0.00000000e+00, 0.00000000e+00, 0.00000000e+00,\n",
       "             0.00000000e+00, 0.00000000e+00, 0.00000000e+00,\n",
       "             0.00000000e+00, 0.00000000e+00, 0.00000000e+00,\n",
       "             2.35294122e-02, 2.66666681e-01, 6.78431392e-01,\n",
       "             8.98039222e-01, 9.96078432e-01, 9.96078432e-01,\n",
       "             9.96078432e-01, 7.01960802e-01, 3.21568638e-01,\n",
       "             5.49019635e-01, 9.96078432e-01, 9.96078432e-01,\n",
       "             5.80392182e-01, 0.00000000e+00, 0.00000000e+00,\n",
       "             0.00000000e+00, 0.00000000e+00, 0.00000000e+00,\n",
       "             0.00000000e+00, 0.00000000e+00, 0.00000000e+00,\n",
       "             0.00000000e+00, 0.00000000e+00, 0.00000000e+00,\n",
       "             0.00000000e+00, 0.00000000e+00, 0.00000000e+00,\n",
       "             0.00000000e+00, 0.00000000e+00, 0.00000000e+00,\n",
       "             0.00000000e+00, 1.17647059e-01, 3.52941185e-01,\n",
       "             9.96078432e-01, 9.96078432e-01, 9.96078432e-01,\n",
       "             9.96078432e-01, 9.96078432e-01, 9.96078432e-01,\n",
       "             9.96078432e-01, 1.76470593e-01, 0.00000000e+00,\n",
       "             0.00000000e+00, 0.00000000e+00, 0.00000000e+00,\n",
       "             0.00000000e+00, 0.00000000e+00, 0.00000000e+00,\n",
       "             0.00000000e+00, 0.00000000e+00, 0.00000000e+00,\n",
       "             0.00000000e+00, 0.00000000e+00, 0.00000000e+00,\n",
       "             0.00000000e+00, 0.00000000e+00, 0.00000000e+00,\n",
       "             0.00000000e+00, 0.00000000e+00, 0.00000000e+00,\n",
       "             3.13725509e-02, 2.62745112e-01, 7.29411781e-01,\n",
       "             9.96078432e-01, 9.96078432e-01, 8.19607854e-01,\n",
       "             9.96078432e-01, 9.96078432e-01, 9.41176489e-02,\n",
       "             0.00000000e+00, 0.00000000e+00, 0.00000000e+00,\n",
       "             0.00000000e+00, 0.00000000e+00, 0.00000000e+00,\n",
       "             0.00000000e+00, 0.00000000e+00, 0.00000000e+00,\n",
       "             0.00000000e+00, 0.00000000e+00, 0.00000000e+00,\n",
       "             0.00000000e+00, 0.00000000e+00, 0.00000000e+00,\n",
       "             0.00000000e+00, 0.00000000e+00, 0.00000000e+00,\n",
       "             0.00000000e+00, 0.00000000e+00, 0.00000000e+00,\n",
       "             3.52941193e-02, 1.17647059e-01, 1.17647059e-01,\n",
       "             7.92156875e-01, 9.96078432e-01, 9.96078432e-01,\n",
       "             9.41176489e-02, 0.00000000e+00, 0.00000000e+00,\n",
       "             0.00000000e+00, 0.00000000e+00, 0.00000000e+00,\n",
       "             0.00000000e+00, 0.00000000e+00, 0.00000000e+00,\n",
       "             0.00000000e+00, 0.00000000e+00, 0.00000000e+00,\n",
       "             0.00000000e+00, 0.00000000e+00, 0.00000000e+00,\n",
       "             0.00000000e+00, 0.00000000e+00, 0.00000000e+00,\n",
       "             0.00000000e+00, 0.00000000e+00, 0.00000000e+00,\n",
       "             0.00000000e+00, 0.00000000e+00, 0.00000000e+00,\n",
       "             0.00000000e+00, 8.31372559e-01, 9.96078432e-01,\n",
       "             9.96078432e-01, 9.41176489e-02, 0.00000000e+00,\n",
       "             0.00000000e+00, 0.00000000e+00, 0.00000000e+00,\n",
       "             0.00000000e+00, 0.00000000e+00, 0.00000000e+00,\n",
       "             0.00000000e+00, 0.00000000e+00, 0.00000000e+00,\n",
       "             0.00000000e+00, 0.00000000e+00, 0.00000000e+00,\n",
       "             0.00000000e+00, 0.00000000e+00, 0.00000000e+00,\n",
       "             0.00000000e+00, 0.00000000e+00, 0.00000000e+00,\n",
       "             0.00000000e+00, 0.00000000e+00, 0.00000000e+00,\n",
       "             0.00000000e+00, 1.41176477e-01, 9.05882359e-01,\n",
       "             9.96078432e-01, 8.23529422e-01, 5.49019612e-02,\n",
       "             0.00000000e+00, 0.00000000e+00, 0.00000000e+00,\n",
       "             0.00000000e+00, 0.00000000e+00, 0.00000000e+00,\n",
       "             0.00000000e+00, 0.00000000e+00, 0.00000000e+00,\n",
       "             0.00000000e+00, 0.00000000e+00, 0.00000000e+00,\n",
       "             0.00000000e+00, 0.00000000e+00, 0.00000000e+00,\n",
       "             0.00000000e+00, 0.00000000e+00, 0.00000000e+00,\n",
       "             0.00000000e+00, 0.00000000e+00, 0.00000000e+00,\n",
       "             0.00000000e+00, 0.00000000e+00, 3.21568638e-01,\n",
       "             9.96078432e-01, 9.96078432e-01, 7.88235307e-01,\n",
       "             4.70588244e-02, 0.00000000e+00, 0.00000000e+00,\n",
       "             0.00000000e+00, 0.00000000e+00, 0.00000000e+00,\n",
       "             0.00000000e+00, 0.00000000e+00, 0.00000000e+00,\n",
       "             0.00000000e+00, 0.00000000e+00, 0.00000000e+00,\n",
       "             0.00000000e+00, 0.00000000e+00, 0.00000000e+00,\n",
       "             0.00000000e+00, 0.00000000e+00, 0.00000000e+00,\n",
       "             0.00000000e+00, 0.00000000e+00, 0.00000000e+00,\n",
       "             0.00000000e+00, 0.00000000e+00, 0.00000000e+00,\n",
       "             1.64705887e-01, 9.17647064e-01, 1.00000000e+00,\n",
       "             9.96078432e-01, 9.41176489e-02, 0.00000000e+00,\n",
       "             0.00000000e+00, 0.00000000e+00, 0.00000000e+00,\n",
       "             0.00000000e+00, 0.00000000e+00, 0.00000000e+00,\n",
       "             0.00000000e+00, 0.00000000e+00, 0.00000000e+00,\n",
       "             0.00000000e+00, 0.00000000e+00, 0.00000000e+00,\n",
       "             0.00000000e+00, 0.00000000e+00, 0.00000000e+00,\n",
       "             0.00000000e+00, 0.00000000e+00, 0.00000000e+00,\n",
       "             0.00000000e+00, 0.00000000e+00, 0.00000000e+00,\n",
       "             0.00000000e+00, 0.00000000e+00, 0.00000000e+00,\n",
       "             0.00000000e+00, 0.00000000e+00, 0.00000000e+00,\n",
       "             0.00000000e+00, 0.00000000e+00, 0.00000000e+00,\n",
       "             0.00000000e+00, 0.00000000e+00, 0.00000000e+00,\n",
       "             0.00000000e+00, 0.00000000e+00, 0.00000000e+00,\n",
       "             0.00000000e+00, 0.00000000e+00, 0.00000000e+00,\n",
       "             0.00000000e+00, 0.00000000e+00, 0.00000000e+00,\n",
       "             0.00000000e+00, 0.00000000e+00, 0.00000000e+00,\n",
       "             0.00000000e+00, 0.00000000e+00, 0.00000000e+00,\n",
       "             0.00000000e+00, 0.00000000e+00, 0.00000000e+00,\n",
       "             0.00000000e+00, 0.00000000e+00, 0.00000000e+00,\n",
       "             0.00000000e+00, 0.00000000e+00, 0.00000000e+00,\n",
       "             0.00000000e+00, 0.00000000e+00, 1.00000000e+00,\n",
       "             1.00000000e+00, 1.00000000e+00, 0.00000000e+00,\n",
       "             0.00000000e+00, 0.00000000e+00, 0.00000000e+00,\n",
       "             0.00000000e+00, 0.00000000e+00, 0.00000000e+00,\n",
       "             0.00000000e+00, 0.00000000e+00, 0.00000000e+00,\n",
       "             0.00000000e+00, 0.00000000e+00, 0.00000000e+00,\n",
       "             0.00000000e+00, 0.00000000e+00, 0.00000000e+00,\n",
       "             0.00000000e+00, 0.00000000e+00, 0.00000000e+00,\n",
       "             0.00000000e+00, 0.00000000e+00, 0.00000000e+00,\n",
       "             0.00000000e+00, 0.00000000e+00, 0.00000000e+00,\n",
       "             1.00000000e+00, 1.00000000e+00, 1.00000000e+00,\n",
       "             0.00000000e+00, 0.00000000e+00, 0.00000000e+00,\n",
       "             0.00000000e+00, 0.00000000e+00, 0.00000000e+00,\n",
       "             0.00000000e+00, 0.00000000e+00, 0.00000000e+00,\n",
       "             0.00000000e+00, 0.00000000e+00, 0.00000000e+00,\n",
       "             0.00000000e+00, 0.00000000e+00, 0.00000000e+00,\n",
       "             0.00000000e+00, 0.00000000e+00, 0.00000000e+00,\n",
       "             0.00000000e+00, 0.00000000e+00, 0.00000000e+00,\n",
       "             0.00000000e+00, 0.00000000e+00, 0.00000000e+00,\n",
       "             0.00000000e+00, 1.00000000e+00, 1.00000000e+00,\n",
       "             1.00000000e+00], dtype=float32)"
      ]
     },
     "execution_count": 85,
     "metadata": {},
     "output_type": "execute_result"
    }
   ],
   "source": [
    "p_list[2]"
   ]
  },
  {
   "cell_type": "code",
   "execution_count": 90,
   "id": "8c9cc021",
   "metadata": {},
   "outputs": [
    {
     "data": {
      "text/plain": [
       "DeviceArray([[1.0000e-04, 0.0000e+00, 0.0000e+00, ..., 1.0000e+00,\n",
       "              1.0000e+00, 1.0000e+00],\n",
       "             [0.0000e+00, 1.0000e-04, 0.0000e+00, ..., 1.0000e+00,\n",
       "              1.0000e+00, 1.0000e+00],\n",
       "             [0.0000e+00, 0.0000e+00, 1.0000e-04, ..., 1.0000e+00,\n",
       "              1.0000e+00, 1.0000e+00],\n",
       "             ...,\n",
       "             [0.0000e+00, 0.0000e+00, 0.0000e+00, ..., 1.0001e+00,\n",
       "              1.0000e+00, 1.0000e+00],\n",
       "             [0.0000e+00, 0.0000e+00, 0.0000e+00, ..., 1.0000e+00,\n",
       "              1.0001e+00, 1.0000e+00],\n",
       "             [0.0000e+00, 0.0000e+00, 0.0000e+00, ..., 1.0000e+00,\n",
       "              1.0000e+00, 1.0001e+00]], dtype=float32)"
      ]
     },
     "execution_count": 90,
     "metadata": {},
     "output_type": "execute_result"
    }
   ],
   "source": []
  },
  {
   "cell_type": "code",
   "execution_count": 98,
   "id": "2cdce2f9",
   "metadata": {},
   "outputs": [],
   "source": [
    "output_perturb = predict_fn(t=1, x_test=p_list)[0]"
   ]
  },
  {
   "cell_type": "code",
   "execution_count": 36,
   "id": "a8e587e5",
   "metadata": {},
   "outputs": [
    {
     "data": {
      "text/plain": [
       "<matplotlib.image.AxesImage at 0x2ba805446f40>"
      ]
     },
     "execution_count": 36,
     "metadata": {},
     "output_type": "execute_result"
    },
    {
     "data": {
      "image/png": "[encoded data removed]",
      "text/plain": [
       "<Figure size 432x288 with 1 Axes>"
      ]
     },
     "metadata": {},
     "output_type": "display_data"
    }
   ],
   "source": [
    "plt.imshow(x_train[41].reshape(28,28))"
   ]
  },
  {
   "cell_type": "code",
   "execution_count": 38,
   "id": "f3f6cbbc",
   "metadata": {},
   "outputs": [
    {
     "name": "stderr",
     "output_type": "stream",
     "text": [
      "100%|██████████| 200/200 [33:23<00:00, 10.02s/it]\n"
     ]
    }
   ],
   "source": [
    "maps=[]\n",
    "\n",
    "\n",
    "for time in tqdm(range(200)):\n",
    "#     print('Time============================', time)\n",
    "    maps.append(sal_map(time, x_train[41]))\n",
    "    \n",
    "    if time%5==0:\n",
    "        onp.save('experiments_outputs_logs/single_patch_90_effective_visualization/visualization_even_corrupted.npy', maps)\n",
    "    \n",
    "    onp.save('experiments_outputs_logs/single_patch_90_effective_visualization/visualization_even_corrupted.npy', maps)"
   ]
  },
  {
   "cell_type": "code",
   "execution_count": null,
   "id": "a2d9bdaf",
   "metadata": {},
   "outputs": [],
   "source": []
  },
  {
   "cell_type": "code",
   "execution_count": null,
   "id": "5ae7ed3f",
   "metadata": {},
   "outputs": [],
   "source": []
  },
  {
   "cell_type": "markdown",
   "id": "edfc47da",
   "metadata": {},
   "source": [
    "# Even non_corrupted\n"
   ]
  },
  {
   "cell_type": "code",
   "execution_count": 47,
   "id": "0d9aee59",
   "metadata": {},
   "outputs": [
    {
     "data": {
      "text/plain": [
       "<matplotlib.image.AxesImage at 0x2ba7ee758bb0>"
      ]
     },
     "execution_count": 47,
     "metadata": {},
     "output_type": "execute_result"
    },
    {
     "data": {
      "image/png": "[encoded data removed]",
      "text/plain": [
       "<Figure size 432x288 with 1 Axes>"
      ]
     },
     "metadata": {},
     "output_type": "display_data"
    }
   ],
   "source": [
    "plt.imshow(x_train[3344].reshape(28,28))"
   ]
  },
  {
   "cell_type": "code",
   "execution_count": 48,
   "id": "c929c728",
   "metadata": {},
   "outputs": [
    {
     "name": "stderr",
     "output_type": "stream",
     "text": [
      "100%|██████████| 200/200 [33:16<00:00,  9.98s/it]\n"
     ]
    }
   ],
   "source": [
    "maps=[]\n",
    "\n",
    "\n",
    "for time in tqdm(range(200)):\n",
    "#     print('Time============================', time)\n",
    "    maps.append(sal_map(time, x_train[3344]))\n",
    "    \n",
    "    if time%5==0:\n",
    "        onp.save('experiments_outputs_logs/single_patch_90_effective_visualization/visualization_even_non_corrupted.npy', maps)\n",
    "    \n",
    "    onp.save('experiments_outputs_logs/single_patch_90_effective_visualization/visualization_even_non_corrupted.npy', maps)\n"
   ]
  },
  {
   "cell_type": "code",
   "execution_count": null,
   "id": "49046372",
   "metadata": {},
   "outputs": [],
   "source": []
  },
  {
   "cell_type": "markdown",
   "id": "a6028792",
   "metadata": {},
   "source": [
    "# odd non_corrupted"
   ]
  },
  {
   "cell_type": "code",
   "execution_count": 50,
   "id": "54616204",
   "metadata": {},
   "outputs": [
    {
     "data": {
      "text/plain": [
       "<matplotlib.image.AxesImage at 0x2ba0d7c34940>"
      ]
     },
     "execution_count": 50,
     "metadata": {},
     "output_type": "execute_result"
    },
    {
     "data": {
      "image/png": "[encoded data removed]",
      "text/plain": [
       "<Figure size 432x288 with 1 Axes>"
      ]
     },
     "metadata": {},
     "output_type": "display_data"
    }
   ],
   "source": [
    "plt.imshow(x_train[34].reshape(28,28))"
   ]
  },
  {
   "cell_type": "code",
   "execution_count": 51,
   "id": "46871aa9",
   "metadata": {},
   "outputs": [
    {
     "name": "stderr",
     "output_type": "stream",
     "text": [
      "100%|██████████| 200/200 [33:12<00:00,  9.96s/it]\n"
     ]
    }
   ],
   "source": [
    "maps=[]\n",
    "\n",
    "\n",
    "for time in tqdm(range(200)):\n",
    "#     print('Time============================', time)\n",
    "    maps.append(sal_map(time, x_train[34]))\n",
    "    \n",
    "    if time%5==0:\n",
    "        onp.save('experiments_outputs_logs/single_patch_90_effective_visualization/visualization_odd.npy', maps)\n",
    "    \n",
    "    onp.save('experiments_outputs_logs/single_patch_90_effective_visualization/visualization_odd.npy', maps)\n"
   ]
  },
  {
   "cell_type": "code",
   "execution_count": null,
   "id": "3f2943a8",
   "metadata": {},
   "outputs": [],
   "source": []
  },
  {
   "cell_type": "code",
   "execution_count": null,
   "id": "aa596801",
   "metadata": {},
   "outputs": [],
   "source": []
  },
  {
   "cell_type": "markdown",
   "id": "56fc222a",
   "metadata": {},
   "source": [
    "# for 100% effectiveness"
   ]
  },
  {
   "cell_type": "code",
   "execution_count": 21,
   "id": "5b02217a",
   "metadata": {},
   "outputs": [
    {
     "name": "stdout",
     "output_type": "stream",
     "text": [
      "[ 192 1883  532 2495 1698 3231 3499 3415 1821 1281 2712 1989  806  739\n",
      " 2825 1436 1738  383 3274 2284 1326 2506 1411 1956 1864 1666 3525 3284\n",
      "   13  833  129   10 2787  476  957 3797 3564 1241 3336 2026 2067 2599\n",
      " 3419 2261 3056 1433 2391 1855 1047 2610  466  453 1538  550   64 1977\n",
      " 3148 3910 2770 2053 1481 3633 2851 3598 3740 3306  898   60 3026 1963\n",
      " 3885 2646 3772 1770  795 3228 3078 3183  799 3048 2643 3491 3889  962\n",
      " 2109 3301 1641 2238 1897 3679 2201 3742 3235 2121 3151 1002 3815 2184\n",
      " 3090 3143  713 2568 2488 2596 3734 1577 1390 1280  927  946 3393 1597\n",
      " 1413 3518 1616  949 2003 1004 2681  561  154  698  362 3001  530 1449\n",
      " 1180 3692 3107 2880 1484 2187 3145  716 2492 2794 1798  238 1784 1022\n",
      " 1733 1160 2291  907  141 3481 3241 2269 2703  118 1846 1815 1800 2157\n",
      " 1845 2337 3108 1693 1711 3953 1391  948 2948 3482  244 2574 3212 2521\n",
      " 1885 3035 2410 2137 2414 2401 1100 1125 3227 3322  626 3678  540 3103\n",
      "   29 1753 2016 3931 2900 1557 2460 1124 1943 1511 1783 3476 2629 3372\n",
      " 3099 1596 1001 3945  645  593 2834 2308 3013 1843 2992 2732 1368 1278\n",
      "  116 2555 2913 2513 3313 2969  752  820  483  657  138 1932  158  451\n",
      "  943 3944  101 2744 3996  122 1405 1863 1471 1542 3401 1173 1672   90\n",
      "  677 2202 2458 3210 1380  306 1712  738 1700 3002 3969  266  875 2294\n",
      " 2461 2167 3432 1071 2428  656  543 2955  757  785  682 2405  658 2946\n",
      " 1138 3801 1018 3025 1182 3965 2970  866  596   96 3865 3380 1283   45\n",
      "  684 1172 3657  469  170 3413 1423 1339 2908 2928  462 1892 2890  711\n",
      " 3111 1736  367 3882  546 2122 2357  807  999 1610 3517  783  198  675\n",
      "  259  548  734 1506  871  387   39 3079  236  470  215 3988 1049 3113\n",
      " 2872 3818  808 2323  212  893 2736 1893 2701 3892 3557  216 2987 2940\n",
      " 1075 1157 2300 1123   87  142  959 1940 3863 3960 2783 2847  538 3713\n",
      "   84 1055 3599 2316  279 2693 2547 3375 3883  191 2758 1529 3637 3552\n",
      " 2830  565 2750 3934  603    8  246  851 1143 3686  610  220 3829 2068\n",
      "  463  642 2639 3664 1444  187 3014  794 1301 2640 3990 3077 1213  600\n",
      " 1435  424  434 2254 2200  322 2548  432]\n",
      "[ 458 3023 1874 3645 1939 1906  444 2561  326 1926 1170 3527 2203 2985\n",
      " 1132 3727  589 1777 2000 3907 2501 1690 3575 1896  740 1775 3264 3974\n",
      " 2136 2598 1774 2041  523 3942  672  356  537  652 1224   38  588 3597\n",
      " 3600  271 3010 3825  919  423 3999  604    9 3998 1313 2257  497 1756\n",
      " 1482 2586 1903 2867 3205  731 3120 2860   14   61 2738  776  970 1357\n",
      " 3565 1122 1834 3465 2652 1012 1415  395 1407 1057  705 2651 1215 1427\n",
      " 3348 2350 1540 1266 3608 3903 3269 1127  727 2624 3444  173   98 2093\n",
      "  128 3136 2258 1371 1955 3240 3246 3452 3296 2413 2620 3324 3267  889\n",
      " 1760 3670 3946  818 1927 3021 2815 1072 1601 2564 1962 2017 2675 1612\n",
      " 2230  855 2274 3157 3176 1785   93 3617 1212 3416  991 1849 3195 1035\n",
      " 3447 3701  630 1306 1985 3445 1077 1558 1944   66 3927 2563 3263 3870\n",
      " 2638 1353 2560  292 2617  393 1442  490  998 1665  341  121  467 1419\n",
      " 3155  242 3154 2324 1468 2898 2087  182 1920  706 3606 1541 2493 1294\n",
      " 3312  542   94   28  208 2315 1681  634 1766 3649 1599 2781 2309 3171\n",
      "   17  126 3546 1183 3008 1583 2062 3297  515 1111 1854  912   82 1370\n",
      " 1440 2259 3763  473 2036 1106 2982 3874 1931 3588 2655 3530 2312 1832\n",
      " 1530  653 1534  552 1078  389 3765 1376  429 3959 1841  857   74 1458\n",
      "  778 2306 2175 1644  844 2318  902 3536 2288 2298 2594 3626 3644 3571\n",
      " 1966 2577  390  696  346 1190 2451 3370  251  910 1319  579 2882 1142\n",
      " 1202 3280 1263 3602 1162 2189 3531 2366 2007 1978 2497 1717 1857  140\n",
      " 2296 1595 2198 3656  433  728  373 2748  104 1364 3497 3924  420  612\n",
      " 2796 1836  428 1350 1829 2004 2532 3427 2625 3436 1154 3276 3787 1305\n",
      " 3522 3761 3219  468 3669 3329 2524  314 1661 1765  342 2558 2845 1951\n",
      "  627 2943 3632 3856 3106 2235 1515  481  217 3655 2033 3341 2154 1153\n",
      "  591   88 2835 3060 1938 1246 1872 3584 1598 2417 1253 2600 1023 2704\n",
      " 3810 2397 2156 2034 1448 3921 3902 1727 3764 3819 3061 2453 3987  418\n",
      " 2572 1141 2338 2145  726 3268  925 3286  365  759 1327 2237   80 1502\n",
      " 3259 3705 1585 3224 2658 1351 2947 1161 2177 1295 2660  836 1175 2412\n",
      " 2964 2111 2205 1539 1369 3738 1043 3605]\n",
      "[ 667 1568  638 1447 3121 3923 1677 3782  218 2370  973 3728 2152 1607\n",
      "  202 3989 2295 3384 2358  984 2605  916  209 3492 2694 2803  607 3666\n",
      "  951 2447 3949   70 1345 3563 2939 2024 3066 3250 2160 1745  913  758\n",
      " 3073 1029 1255 1488 1953 2635  917 3216 1731  700 2476 2509  935  686\n",
      " 3363 2528 1267 2889  555 1194 2752  598  805  842 1330  413 1659 1643\n",
      " 3453 2710  544  941 2911 3031 1026 2140 3226 2960  966  344 3773 1402\n",
      " 2390 2931  504 2244  309 2661 2814  445 1588 2158 1522 2233 3190 2706\n",
      " 3072 2715 3585 3697 2833  159 2723 2199 1135 1704  724  270 2995 2404\n",
      " 1184 2978 1773  276 2997  338 2687 1365 3711  241 2965 2153 2576 1480\n",
      " 2585 3467 3489 3532  979  196 3421  618 3091  272 3382 1165 2210 2884\n",
      "  899  332 3116 1496 1286  388 2633 3971 1881 1105 3505 2354 1416   56\n",
      " 2885  204  114  685  113 1074 2241 1159 2683 3323 1401 1422  932 3265\n",
      " 1759 3973 3866 3891 3977 1103  328  486 1771 2065 2957 3403 2659 2615\n",
      " 1523 3533 2657 2260  937 1813 3429 2014 1728 3279 3356 2462 1392  877\n",
      " 2077  845 1993  258 1226 3475 1680 3477  394 1249 2281 2106  674 2095\n",
      " 1214 2422 1065 3758 3721 3217 1015 1685 2287 1842 2124  853 3836 1287\n",
      " 2580 3550  639 2377  905 2808 1320 1384 2343 3572 3893 3796 3330 2782\n",
      " 3722 2349 3510 1797  442 3516  670  622 1311 1555 2654  381 3369  768\n",
      " 2466  454 1509 3130 2001 3501 3746 3051 2482 1716 3040 2686 2321 3201\n",
      " 3122 1833  350 2717 3837 3939 3379 1121 1149 1513 2079 2537 3582  637\n",
      "  736 2714   18 2183 3132 2670 1581 3876 3238  489 2550 2861  688 1952\n",
      " 1714 3490 2299 1543  172  277 3308 2436 1348  651  601  681 3894 1234\n",
      " 1875  509 1514 3337 3680 3956  103 1304 2891 3159 2120 3137 2282 3471\n",
      " 1915 1374  378 1166 2902 3658 2207 3616 1473 2523  156   47 3859 2246\n",
      " 3647 3245 3459 2774  840 3514  732 2669  526 3578  482  869 3523 3498\n",
      " 2559 2727  953 2147 2536 1474 2011 1331 1486  903 3374 3186 2059 2332\n",
      "  168 1349  631 1104  879 1658  570 2953  179 2032 1619 2074 3487  890\n",
      "  649 3706 3853 2084 2740    0  145 3334  784  683 2379 1420 3896 3671\n",
      " 2102 2099 2345 1559  892  439  517 3281]\n",
      "[3566 2015  963 2582 1344  956 2966 3320 3299  931 1504 1232 2975 2104\n",
      " 2805 3869 1109 3428 3639 3353 2505 1332 3558 1786  583 2048 2514 2554\n",
      "  464 2195   78 1082  459 1192 2980 2399 2283 1891 2613  841 2829 2673\n",
      " 2352  955  324  709 1957 2786 1688 3851 3743 3342  108 2653 3424 2459\n",
      " 2920  574 3911 2566 3515 3862 1999  793 3407 3833 1631 2759 3621 3359\n",
      " 1983 3943 2286 2498 2277 2700 2383  165 2674  825 2722 2469 2684  136\n",
      " 3793 2239 1505 3081 3343 3332 2408 2743 2527 1735 2470 1564 1205  518\n",
      " 3867  480 3519 1381 3451 3579 3199  662 2734 3045 1580 3596 1044 2149\n",
      " 3462  414  333 1512 3898 2502 3352   69 1363 3912  261 2163 1418 3097\n",
      " 3104 3044 1748  294 1614 1804 3422 2229 2522 2086 1517 2754  146  650\n",
      " 2721 1260 3513 3232  994 2881 3683 3057  527 1269 3314  969 1908 1839\n",
      " 2371 1703 1925  167 2374  143 2038  201 1886 1054  620 1609 2711  964\n",
      "   54 2802 1508 3553 2069 2262 2329 3625 3153 2376 3488 1150 3129  741\n",
      " 2623  488 1243 1303 1950 2916 1625  402 3986 1387 2798 3095   19  952\n",
      "  524 1006 2726 1169  894 3826  702 2094 3175 2676 2227  557  364 3189\n",
      " 1825  568  430   97 1395 2359 2119 1862 1317 2773 3278  160  427 3287\n",
      " 1655  153  403   81 2444 1361 2779 1941 1667 1670 2434 3726 2871 1791\n",
      " 2380 3929 3887 3409 3302 2627 3248 2384 1969 3506 1991 1916 1366 2044\n",
      "  207 2161  522 3011  323 3577  690 2772 1929  676 3446  176   25 2197\n",
      "  334 3364 3868 3804 1901  210  282 2562 3288 1091 3574 1694 1660 1780\n",
      " 1426 3980 3123 1156 1115 1067 2878  669 1637 2869 1061 3784  183    4\n",
      " 1276 2720 1126 2644 3172 2949 3561 2151  609  343 2432 1826 1671 3043\n",
      " 2256 3779 2996 2285 2494 1613 2630 3753 1754 1719 3305 1046 3622 3500\n",
      " 3142 1158  169 2698 1185 3164 2567 3654  694 2602  872  553   77 2248\n",
      " 1556 2030 3972  815 1343  382 2892 3318  829 3196  908 1726 1497 3719\n",
      " 1377 2707 2874 2127 2194  860  137 2320 2090 3383  284 1923   63 3521\n",
      " 3800  460 2822  974 3418 3695 1129 3188 1430 2520 3964 1600 3545 1669\n",
      "  163  214 1811 2994  885 3717  252  200  615 3258 2356  834  290 3936\n",
      "  448 2304 1554  457 2757 1744 3992 3748]\n",
      "[1546 3373 2181  336 3813 1446  720  861 3963 3213 2279 3905  392 2692\n",
      " 2085 1147 1310 3218 1921  993 2849  605 2922  299 1242 2165 1532  980\n",
      " 3069 1757 3030 2123 2791 3092 3180 3234  340 1408  928 3768 2766 2292\n",
      " 3940 1948 3844 3365  654 2491 1045 3209 2361 2264 2135 1208  729 1590\n",
      "  379 3694 2614 2387 3062 3512 3922  789 3539  862 1235 2934 1335 3070\n",
      "   85  257 3906 1056 1838  471 2862 3029 3750 3469 2052 3677  563  762\n",
      " 3704 3063 2170  508 3041 1752 2280 3463   33 1769 1898 2223 2828 2836\n",
      " 1996 2688 1706 2098  190 3319  822 2073 1030 3630  441  614  107 3792\n",
      " 2218 3394 1674 1840  308 2765 3674 2945   40 2226 3715  375 2489  965\n",
      " 3233 3133 2429 1984 3795 3484  409 2369 3544 3708 1059 2344 3562  263\n",
      " 3454 3033 2134 1296 1934 3805  990 3423 2746 3556  119  516 1450 3140\n",
      "  816 1746  838 1869 1550  329  897 2278  967 3252 1668 1274 2728  847\n",
      "  174  821 2709 3065 3794 2944 2225 1040 3786 2749 2812   79 1888  511\n",
      "  144 3725 3691 3619  363 1399  147 2859 2063 2353  437 2103  125  717\n",
      " 2110 1884 1434 1691 3560 1400 3054 2733 1092 1130 1764 2335 1510 1063\n",
      " 2022  400 2477  859 2697  260 1664 2919 1219 2581 2302 3551  779  478\n",
      " 2914 3816  671  475  369 1533  737 1087 2924   24 2857    1 2775  856\n",
      " 1461   71 3119 2164 2473  703 2858 3648 2056 2326  715 1195 1007 2512\n",
      " 2043 1464  915 2395 3641 1307  646 1653 2484 1654 2385 2912 2023  545\n",
      "  109 1248   22 3767 3158 1494 3402  693 3262 3124 3555 3222 1965 1277\n",
      " 3131 3642  940 3897 2716 2989 2216 1782 1254 2713  882 3251  560 3327\n",
      " 3478  436 1414 3541 2242 1975 1469 3660 1428  839 2407 2317 1565   35\n",
      " 1051 3707 3846 3769  655 3152 2771 1152 2785 3951 3879  906 3952 3607\n",
      " 3037  828 1189 2301  888  283 2363  887  310  564 3835 1663 3852 2883\n",
      " 1793 2986 3932 2525 3737  664 1499   32 3601 3751 1867 2905 3777  774\n",
      " 3277 2788 2029 3696 1116 3117  566  535 3440  377 3472 1860 3548 1048\n",
      " 1354 2266 2668 2927 3970 1500 1603 1776  288 1284 3038 1751 1282  435\n",
      " 3547 3976 3493 2456 1088  707 1537 3230  968 1592 2856  624 2018 2339\n",
      "  189 3847 3916 2076 1186 2507 1000 1724]\n"
     ]
    }
   ],
   "source": [
    "\n",
    "# load noise train images:\n",
    "x_data = onp.load('mnist_shortcut_dataset/mnist_x_train_orginal.npy')\n",
    "\n",
    "#load corresponding original label:\n",
    "x_label = onp.load('mnist_shortcut_dataset/y_train_original.npy')\n",
    "\n",
    "## sample balanced training dataset \n",
    "\n",
    "\n",
    "x_train, y_train = sample_dataset(x_data, x_label, train_size)\n",
    "\n",
    "\n",
    "#corrupt_images\n",
    "\n",
    "\n",
    "#corrupt with 100% effective noise\n",
    "x_train = corr_images(x_train, y_train, 1)\n",
    "\n",
    "\n",
    "    \n",
    "##convert labels to odd/even classes\n",
    "y_train = y_train%2\n",
    "\n",
    "#load clean test data and labels\n",
    "x_test = np.load('mnist_shortcut_dataset/mnist_x_test_ood.npy')\n",
    "y_test = np.load('mnist_shortcut_dataset/mnist_y_test_ood.npy')\n",
    "x_test = x_test.reshape(-1,784)\n",
    "\n",
    "train_images, train_labels, test_images, test_labels = load_data(x_train,y_train, x_test, y_test,\n",
    "                                                                test_size=test_size)"
   ]
  },
  {
   "cell_type": "code",
   "execution_count": 22,
   "id": "0faf2518",
   "metadata": {},
   "outputs": [],
   "source": [
    "w_std=1.5\n",
    "beta=0.2\n",
    "diag_reg=1e-4\n",
    "compute_cov=False\n",
    "\n",
    "init_fn, apply_fn, ker_fn = nt.stax.serial(\n",
    "#             nt.stax.Conv(1, (3,3), W_std=w_std, b_std=b_std),\n",
    "#             nt.stax.Relu(),\n",
    "#             nt.stax.AvgPool((8,8)),\n",
    "\n",
    "#             nt.stax.Conv(1, (3,3), W_std=w_std, b_std=b_std),\n",
    "#             nt.stax.Relu(),\n",
    "#             nt.stax.AvgPool((4,4)),\n",
    "\n",
    "# #             nt.stax.Conv(6, (3,3), W_std=w_std, b_std=b_std),\n",
    "# #             nt.stax.Relu(),\n",
    "# #             nt.stax.AvgPool((4,4)),\n",
    "\n",
    "#             nt.stax.Flatten(),\n",
    "\n",
    "#             nt.stax.Dense(1, W_std=w_std, b_std=b_std))\n",
    "\n",
    "        nt.stax.Dense(512, W_std=w_std, b_std=b_std),\n",
    "        nt.stax.Relu(),\n",
    "        nt.stax.Dense(128, W_std=w_std, b_std=b_std),\n",
    "        nt.stax.Relu(),\n",
    "        nt.stax.Dense(32, W_std=w_std, b_std=b_std),\n",
    "        nt.stax.Relu(),\n",
    "        nt.stax.Dense(1, W_std=w_std, b_std=b_std))"
   ]
  },
  {
   "cell_type": "code",
   "execution_count": 23,
   "id": "62f0321d",
   "metadata": {},
   "outputs": [],
   "source": [
    "ker_fn = nt.batch(ker_fn, batch_size=250, device_count=num_of_gpus, store_on_device=True)\n",
    "predict_fn = gradient_descent_mse_vib(beta, train_images, train_labels, diag_reg, ker_fn)\n",
    "predict_fn = partial(predict_fn, get='ntk', compute_cov=compute_cov)"
   ]
  },
  {
   "cell_type": "code",
   "execution_count": null,
   "id": "0321041f",
   "metadata": {},
   "outputs": [],
   "source": []
  },
  {
   "cell_type": "code",
   "execution_count": 30,
   "id": "04019ee6",
   "metadata": {},
   "outputs": [
    {
     "data": {
      "text/plain": [
       "<matplotlib.image.AxesImage at 0x2ab70daab220>"
      ]
     },
     "execution_count": 30,
     "metadata": {},
     "output_type": "execute_result"
    },
    {
     "data": {
      "image/png": "[encoded data removed]",
      "text/plain": [
       "<Figure size 432x288 with 1 Axes>"
      ]
     },
     "metadata": {},
     "output_type": "display_data"
    }
   ],
   "source": [
    "plt.imshow(x_train[871].reshape(28,28))"
   ]
  },
  {
   "cell_type": "code",
   "execution_count": 31,
   "id": "85c155b4",
   "metadata": {},
   "outputs": [
    {
     "name": "stderr",
     "output_type": "stream",
     "text": [
      "100%|██████████| 100/100 [16:50<00:00, 10.11s/it]\n"
     ]
    }
   ],
   "source": [
    "maps=[]\n",
    "\n",
    "\n",
    "for time in tqdm(range(100)):\n",
    "#     print('Time============================', time)\n",
    "    maps.append(sal_map(time, x_train[871]))\n",
    "    \n",
    "    if time%5==0:\n",
    "        onp.save('experiments_outputs_logs/single_patch_100_effective_visualization/visualization_even_corrupted.npy', maps)\n",
    "    \n",
    "    onp.save('experiments_outputs_logs/single_patch_100_effective_visualization/visualization_even_corrupted.npy', maps)"
   ]
  },
  {
   "cell_type": "markdown",
   "id": "dd150451",
   "metadata": {},
   "source": [
    "# odd ( non corrupted)\n"
   ]
  },
  {
   "cell_type": "code",
   "execution_count": 30,
   "id": "ab218fc6",
   "metadata": {},
   "outputs": [
    {
     "data": {
      "text/plain": [
       "<matplotlib.image.AxesImage at 0x2b06ef90e070>"
      ]
     },
     "execution_count": 30,
     "metadata": {},
     "output_type": "execute_result"
    },
    {
     "data": {
      "image/png": "[encoded data removed]",
      "text/plain": [
       "<Figure size 432x288 with 1 Axes>"
      ]
     },
     "metadata": {},
     "output_type": "display_data"
    }
   ],
   "source": [
    "plt.imshow(x_train[3344].reshape(28,28))"
   ]
  },
  {
   "cell_type": "code",
   "execution_count": 31,
   "id": "fed92a47",
   "metadata": {},
   "outputs": [
    {
     "name": "stderr",
     "output_type": "stream",
     "text": [
      "100%|██████████| 200/200 [33:04<00:00,  9.92s/it]\n"
     ]
    }
   ],
   "source": [
    "maps=[]\n",
    "\n",
    "\n",
    "for time in tqdm(range(200)):\n",
    "#     print('Time============================', time)\n",
    "    maps.append(sal_map(time, x_train[3344]))\n",
    "    \n",
    "    if time%5==0:\n",
    "        onp.save('experiments_outputs_logs/single_patch_100_effective_visualization/visualization_odd.npy', maps)\n",
    "    \n",
    "    onp.save('experiments_outputs_logs/single_patch_100_effective_visualization/visualization_odd.npy', maps)\n"
   ]
  },
  {
   "cell_type": "code",
   "execution_count": null,
   "id": "840665ee",
   "metadata": {},
   "outputs": [],
   "source": []
  },
  {
   "cell_type": "code",
   "execution_count": null,
   "id": "c27120ae",
   "metadata": {},
   "outputs": [],
   "source": []
  },
  {
   "cell_type": "code",
   "execution_count": null,
   "id": "9372bb78",
   "metadata": {},
   "outputs": [],
   "source": []
  },
  {
   "cell_type": "markdown",
   "id": "2e3d35bb",
   "metadata": {},
   "source": [
    "# for no shortcuts (0% effectiveness)"
   ]
  },
  {
   "cell_type": "code",
   "execution_count": null,
   "id": "3742304a",
   "metadata": {},
   "outputs": [],
   "source": [
    "\n",
    "# load noise train images:\n",
    "x_data = onp.load('mnist_shortcut_dataset/mnist_x_train_orginal.npy')\n",
    "\n",
    "#load corresponding original label:\n",
    "x_label = onp.load('mnist_shortcut_dataset/y_train_original.npy')\n",
    "\n",
    "## sample balanced training dataset \n",
    "\n",
    "\n",
    "x_train, y_train = sample_dataset(x_data, x_label, train_size)\n",
    "\n",
    "\n",
    "#corrupt_images\n",
    "\n",
    "\n",
    "#corrupt with 100% effective noise\n",
    "x_train = corr_images(x_train, y_train, 0)\n",
    "\n",
    "\n",
    "    \n",
    "##convert labels to odd/even classes\n",
    "y_train = y_train%2\n",
    "\n",
    "#load clean test data and labels\n",
    "x_test = np.load('mnist_shortcut_dataset/mnist_x_test_ood.npy')\n",
    "y_test = np.load('mnist_shortcut_dataset/mnist_y_test_ood.npy')\n",
    "x_test = x_test.reshape(-1,784)\n",
    "\n",
    "train_images, train_labels, test_images, test_labels = load_data(x_train,y_train, x_test, y_test,\n",
    "                                                                test_size=test_size)"
   ]
  },
  {
   "cell_type": "code",
   "execution_count": null,
   "id": "4352f2de",
   "metadata": {},
   "outputs": [],
   "source": [
    "w_std=1.5\n",
    "beta=0.2\n",
    "diag_reg=1e-4\n",
    "compute_cov=False\n",
    "\n",
    "init_fn, apply_fn, ker_fn = nt.stax.serial(\n",
    "#             nt.stax.Conv(1, (3,3), W_std=w_std, b_std=b_std),\n",
    "#             nt.stax.Relu(),\n",
    "#             nt.stax.AvgPool((8,8)),\n",
    "\n",
    "#             nt.stax.Conv(1, (3,3), W_std=w_std, b_std=b_std),\n",
    "#             nt.stax.Relu(),\n",
    "#             nt.stax.AvgPool((4,4)),\n",
    "\n",
    "# #             nt.stax.Conv(6, (3,3), W_std=w_std, b_std=b_std),\n",
    "# #             nt.stax.Relu(),\n",
    "# #             nt.stax.AvgPool((4,4)),\n",
    "\n",
    "#             nt.stax.Flatten(),\n",
    "\n",
    "#             nt.stax.Dense(1, W_std=w_std, b_std=b_std))\n",
    "\n",
    "        nt.stax.Dense(512, W_std=w_std, b_std=b_std),\n",
    "        nt.stax.Relu(),\n",
    "        nt.stax.Dense(128, W_std=w_std, b_std=b_std),\n",
    "        nt.stax.Relu(),\n",
    "        nt.stax.Dense(32, W_std=w_std, b_std=b_std),\n",
    "        nt.stax.Relu(),\n",
    "        nt.stax.Dense(1, W_std=w_std, b_std=b_std))"
   ]
  },
  {
   "cell_type": "code",
   "execution_count": 1,
   "id": "d4881984",
   "metadata": {},
   "outputs": [
    {
     "ename": "NameError",
     "evalue": "name 'plt' is not defined",
     "output_type": "error",
     "traceback": [
      "\u001b[0;31m---------------------------------------------------------------------------\u001b[0m",
      "\u001b[0;31mNameError\u001b[0m                                 Traceback (most recent call last)",
      "Input \u001b[0;32mIn [1]\u001b[0m, in \u001b[0;36m<module>\u001b[0;34m\u001b[0m\n\u001b[0;32m----> 1\u001b[0m \u001b[43mplt\u001b[49m\u001b[38;5;241m.\u001b[39mimshow(x_train[\u001b[38;5;241m1227\u001b[39m]\u001b[38;5;241m.\u001b[39mreshape(\u001b[38;5;241m28\u001b[39m,\u001b[38;5;241m28\u001b[39m))\n",
      "\u001b[0;31mNameError\u001b[0m: name 'plt' is not defined"
     ]
    }
   ],
   "source": [
    "plt.imshow(x_train[1227].reshape(28,28))"
   ]
  },
  {
   "cell_type": "code",
   "execution_count": 56,
   "id": "41b9f89c",
   "metadata": {},
   "outputs": [
    {
     "name": "stderr",
     "output_type": "stream",
     "text": [
      " 70%|██████▉   | 139/200 [29:13<12:49, 12.61s/it]\n"
     ]
    },
    {
     "ename": "KeyboardInterrupt",
     "evalue": "",
     "output_type": "error",
     "traceback": [
      "\u001b[0;31m---------------------------------------------------------------------------\u001b[0m",
      "\u001b[0;31mKeyboardInterrupt\u001b[0m                         Traceback (most recent call last)",
      "Input \u001b[0;32mIn [56]\u001b[0m, in \u001b[0;36m<module>\u001b[0;34m\u001b[0m\n\u001b[1;32m      1\u001b[0m maps\u001b[38;5;241m=\u001b[39m[]\n\u001b[1;32m      4\u001b[0m \u001b[38;5;28;01mfor\u001b[39;00m time \u001b[38;5;129;01min\u001b[39;00m tqdm(\u001b[38;5;28mrange\u001b[39m(\u001b[38;5;241m200\u001b[39m)):\n\u001b[1;32m      5\u001b[0m \u001b[38;5;66;03m#     print('Time============================', time)\u001b[39;00m\n\u001b[0;32m----> 6\u001b[0m     maps\u001b[38;5;241m.\u001b[39mappend(\u001b[43msal_map\u001b[49m\u001b[43m(\u001b[49m\u001b[43mtime\u001b[49m\u001b[43m,\u001b[49m\u001b[43m \u001b[49m\u001b[43mx_train\u001b[49m\u001b[43m[\u001b[49m\u001b[38;5;241;43m1227\u001b[39;49m\u001b[43m]\u001b[49m\u001b[43m)\u001b[49m)\n\u001b[1;32m      8\u001b[0m     \u001b[38;5;28;01mif\u001b[39;00m time\u001b[38;5;241m%\u001b[39m\u001b[38;5;241m5\u001b[39m\u001b[38;5;241m==\u001b[39m\u001b[38;5;241m0\u001b[39m:\n\u001b[1;32m      9\u001b[0m         onp\u001b[38;5;241m.\u001b[39msave(\u001b[38;5;124m'\u001b[39m\u001b[38;5;124mexperiments_outputs_logs/single_patch_0_effective_visualization/visualization_even_corrupted.npy\u001b[39m\u001b[38;5;124m'\u001b[39m, maps)\n",
      "Input \u001b[0;32mIn [27]\u001b[0m, in \u001b[0;36msal_map\u001b[0;34m(time, image)\u001b[0m\n\u001b[1;32m     39\u001b[0m \u001b[38;5;28;01mfor\u001b[39;00m i \u001b[38;5;129;01min\u001b[39;00m \u001b[38;5;28mrange\u001b[39m(\u001b[38;5;241m784\u001b[39m):\n\u001b[1;32m     40\u001b[0m     x,y\u001b[38;5;241m=\u001b[39m cord[i]\n\u001b[0;32m---> 41\u001b[0m     visalize_map[x,y] \u001b[38;5;241m=\u001b[39m (\u001b[43moutput_perturb\u001b[49m\u001b[43m[\u001b[49m\u001b[43mi\u001b[49m\u001b[43m]\u001b[49m\u001b[43m \u001b[49m\u001b[38;5;241;43m-\u001b[39;49m\u001b[43m \u001b[49m\u001b[43moutput_base\u001b[49m) \u001b[38;5;241m/\u001b[39m perturb\n\u001b[1;32m     44\u001b[0m \u001b[38;5;28;01mreturn\u001b[39;00m visalize_map\n",
      "File \u001b[0;32m~/jax-0.2.27/jax/_src/numpy/lax_numpy.py:6690\u001b[0m, in \u001b[0;36m_defer_to_unrecognized_arg.<locals>.deferring_binary_op\u001b[0;34m(self, other)\u001b[0m\n\u001b[1;32m   6688\u001b[0m \u001b[38;5;28;01mif\u001b[39;00m \u001b[38;5;129;01mnot\u001b[39;00m \u001b[38;5;28misinstance\u001b[39m(other, _accepted_binop_types):\n\u001b[1;32m   6689\u001b[0m   \u001b[38;5;28;01mreturn\u001b[39;00m \u001b[38;5;28mNotImplemented\u001b[39m\n\u001b[0;32m-> 6690\u001b[0m \u001b[38;5;28;01mreturn\u001b[39;00m \u001b[43mbinary_op\u001b[49m\u001b[43m(\u001b[49m\u001b[38;5;28;43mself\u001b[39;49m\u001b[43m,\u001b[49m\u001b[43m \u001b[49m\u001b[43mother\u001b[49m\u001b[43m)\u001b[49m\n",
      "\u001b[0;31mKeyboardInterrupt\u001b[0m: "
     ]
    }
   ],
   "source": [
    "maps=[]\n",
    "\n",
    "\n",
    "for time in tqdm(range(200)):\n",
    "#     print('Time============================', time)\n",
    "    maps.append(sal_map(time, x_train[1227]))\n",
    "    \n",
    "    if time%5==0:\n",
    "        onp.save('experiments_outputs_logs/single_patch_0_effective_visualization/visualization_even_corrupted.npy', maps)\n",
    "    \n",
    "    onp.save('experiments_outputs_logs/single_patch_0_effective_visualization/visualization_even_corrupted.npy', maps)"
   ]
  },
  {
   "cell_type": "code",
   "execution_count": null,
   "id": "6d673341",
   "metadata": {},
   "outputs": [],
   "source": [
    "# for odd"
   ]
  },
  {
   "cell_type": "code",
   "execution_count": 57,
   "id": "69339ed5",
   "metadata": {},
   "outputs": [
    {
     "data": {
      "text/plain": [
       "<matplotlib.image.AxesImage at 0x2b0f57ed0700>"
      ]
     },
     "execution_count": 57,
     "metadata": {},
     "output_type": "execute_result"
    },
    {
     "data": {
      "image/png": "[encoded data removed]",
      "text/plain": [
       "<Figure size 432x288 with 1 Axes>"
      ]
     },
     "metadata": {},
     "output_type": "display_data"
    }
   ],
   "source": [
    "plt.imshow(x_train[19].reshape(28,28))"
   ]
  },
  {
   "cell_type": "code",
   "execution_count": 58,
   "id": "7f963e1b",
   "metadata": {},
   "outputs": [
    {
     "name": "stderr",
     "output_type": "stream",
     "text": [
      "100%|██████████| 200/200 [44:05<00:00, 13.23s/it]\n"
     ]
    }
   ],
   "source": [
    "maps=[]\n",
    "\n",
    "\n",
    "for time in tqdm(range(200)):\n",
    "#     print('Time============================', time)\n",
    "    maps.append(sal_map(time, x_train[19]))\n",
    "    \n",
    "    if time%5==0:\n",
    "        onp.save('experiments_outputs_logs/single_patch_0_effective_visualization/visualization_odd.npy', maps)\n",
    "    \n",
    "    onp.save('experiments_outputs_logs/single_patch_0_effective_visualization/visualization_odd.npy', maps)"
   ]
  },
  {
   "cell_type": "code",
   "execution_count": null,
   "id": "d9146f14",
   "metadata": {},
   "outputs": [],
   "source": []
  }
 ],
 "metadata": {
  "kernelspec": {
   "display_name": "Python 3 (ipykernel)",
   "language": "python",
   "name": "python3"
  },
  "language_info": {
   "codemirror_mode": {
    "name": "ipython",
    "version": 3
   },
   "file_extension": ".py",
   "mimetype": "text/x-python",
   "name": "python",
   "nbconvert_exporter": "python",
   "pygments_lexer": "ipython3",
   "version": "3.8.10"
  }
 },
 "nbformat": 4,
 "nbformat_minor": 5
}
